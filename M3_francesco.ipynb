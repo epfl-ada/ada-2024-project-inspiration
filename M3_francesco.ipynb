{
 "cells": [
  {
   "cell_type": "code",
   "execution_count": 1,
   "metadata": {},
   "outputs": [],
   "source": [
    "# Some basic imports\n",
    "import os\n",
    "import pandas as pd\n",
    "import numpy as np\n",
    "import matplotlib.pyplot as plt\n",
    "from scipy import stats\n",
    "import seaborn as sns\n",
    "import warnings\n",
    "import ast\n",
    "import re\n",
    "import statsmodels.api as sm\n"
   ]
  },
  {
   "cell_type": "code",
   "execution_count": 2,
   "metadata": {},
   "outputs": [
    {
     "data": {
      "text/plain": [
       "Unnamed: 0                  13837\n",
       "Movie_name                  13837\n",
       "Movie_release_date          13837\n",
       "Ratings                     13837\n",
       "Wikipedia_movie_ID          13837\n",
       "Actor_ethnicity             13837\n",
       "Movie_countries             13837\n",
       "Movie_box_office_revenue     1370\n",
       "Nomination                  13837\n",
       "Success                     13837\n",
       "diversity                   13837\n",
       "actor_number                13837\n",
       "dtype: int64"
      ]
     },
     "execution_count": 2,
     "metadata": {},
     "output_type": "execute_result"
    }
   ],
   "source": [
    "# Load the general data:\n",
    "success_movies_path = 'data/processed_data/success_movies.csv'\n",
    "\n",
    "success_movies_df = pd.read_csv(success_movies_path, sep=',')\n",
    "success_movies_df =success_movies_df.dropna(subset=['diversity'])\n",
    "\n",
    "success_movies_df= success_movies_df[success_movies_df[\"actor_number\"] != 1]\n",
    "success_movies_df.count()\n",
    "\n"
   ]
  },
  {
   "cell_type": "markdown",
   "metadata": {},
   "source": [
    "## Regression\n"
   ]
  },
  {
   "cell_type": "code",
   "execution_count": 3,
   "metadata": {},
   "outputs": [
    {
     "name": "stdout",
     "output_type": "stream",
     "text": [
      "The number of samples in the training set is: 11069\n",
      "The number of samples in the test set is: 2768\n"
     ]
    }
   ],
   "source": [
    "from sklearn.model_selection import train_test_split\n",
    "# split the data into train and test sets using a 80-20 split\n",
    "train, test = train_test_split(success_movies_df, test_size=0.2, random_state=42)\n",
    "\n",
    "# print number of samples in the training and test sets\n",
    "print(f\"The number of samples in the training set is: {train.shape[0]}\")\n",
    "print(f\"The number of samples in the test set is: {test.shape[0]}\")"
   ]
  },
  {
   "cell_type": "code",
   "execution_count": 4,
   "metadata": {},
   "outputs": [
    {
     "data": {
      "text/html": [
       "<div>\n",
       "<style scoped>\n",
       "    .dataframe tbody tr th:only-of-type {\n",
       "        vertical-align: middle;\n",
       "    }\n",
       "\n",
       "    .dataframe tbody tr th {\n",
       "        vertical-align: top;\n",
       "    }\n",
       "\n",
       "    .dataframe thead th {\n",
       "        text-align: right;\n",
       "    }\n",
       "</style>\n",
       "<table border=\"1\" class=\"dataframe\">\n",
       "  <thead>\n",
       "    <tr style=\"text-align: right;\">\n",
       "      <th></th>\n",
       "      <th>Ratings</th>\n",
       "      <th>Nomination</th>\n",
       "    </tr>\n",
       "  </thead>\n",
       "  <tbody>\n",
       "    <tr>\n",
       "      <th>17743</th>\n",
       "      <td>8.0</td>\n",
       "      <td>False</td>\n",
       "    </tr>\n",
       "    <tr>\n",
       "      <th>15963</th>\n",
       "      <td>6.9</td>\n",
       "      <td>False</td>\n",
       "    </tr>\n",
       "    <tr>\n",
       "      <th>10800</th>\n",
       "      <td>3.6</td>\n",
       "      <td>False</td>\n",
       "    </tr>\n",
       "    <tr>\n",
       "      <th>7250</th>\n",
       "      <td>6.6</td>\n",
       "      <td>False</td>\n",
       "    </tr>\n",
       "    <tr>\n",
       "      <th>2331</th>\n",
       "      <td>7.8</td>\n",
       "      <td>True</td>\n",
       "    </tr>\n",
       "  </tbody>\n",
       "</table>\n",
       "</div>"
      ],
      "text/plain": [
       "       Ratings  Nomination\n",
       "17743      8.0       False\n",
       "15963      6.9       False\n",
       "10800      3.6       False\n",
       "7250       6.6       False\n",
       "2331       7.8        True"
      ]
     },
     "execution_count": 4,
     "metadata": {},
     "output_type": "execute_result"
    }
   ],
   "source": [
    "# split the data into features and target for the train and test datasets. \n",
    "# features contains all the columns minus the column price and label contains only the column price. \n",
    "# We will use this to train our model and then test it on the test set.\n",
    "# Training features and target\n",
    "features = ['Ratings', 'Nomination'] # 'Movie_box_office_revenue',\n",
    "X_train = train[features]\n",
    "y_train = train['diversity']\n",
    "\n",
    "# testing features and target\n",
    "X_test = test[features]\n",
    "y_test = test['diversity']\n",
    "\n",
    "# describe the training target variable\n",
    "X_test.head()\n",
    "\n",
    "\n"
   ]
  },
  {
   "cell_type": "code",
   "execution_count": 5,
   "metadata": {},
   "outputs": [
    {
     "name": "stdout",
     "output_type": "stream",
     "text": [
      "The mean of the training set after standardization is:\n",
      "const         1.000000e+00\n",
      "Ratings       7.073973e-16\n",
      "Nomination   -2.599781e-17\n",
      "dtype: float64\n",
      "The standard deviation of the training set after standardization:\n",
      "const         0.000000\n",
      "Ratings       1.000045\n",
      "Nomination    1.000045\n",
      "dtype: float64\n"
     ]
    }
   ],
   "source": [
    "from sklearn.preprocessing import StandardScaler\n",
    "\n",
    "scaler = StandardScaler()\n",
    "X_train_scaled = scaler.fit_transform(X_train)\n",
    "X_train_scaled = pd.DataFrame(X_train_scaled, columns=X_train.columns, index=X_train.index)\n",
    "\n",
    "# we add constant column\n",
    "X_train_scaled = sm.add_constant(X_train_scaled)\n",
    "\n",
    "# we print the mean and standard deviation of the training set after standardization\n",
    "print(f\"The mean of the training set after standardization is:\\n{X_train_scaled.mean()}\")\n",
    "print(f\"The standard deviation of the training set after standardization:\\n{X_train_scaled.std()}\")"
   ]
  },
  {
   "cell_type": "code",
   "execution_count": 6,
   "metadata": {},
   "outputs": [
    {
     "name": "stdout",
     "output_type": "stream",
     "text": [
      "Ratings       0\n",
      "Nomination    0\n",
      "dtype: int64\n"
     ]
    }
   ],
   "source": [
    "# print(X_train_scaled.isnull().sum())\n",
    "print(X_train.isnull().sum())"
   ]
  },
  {
   "cell_type": "code",
   "execution_count": 7,
   "metadata": {},
   "outputs": [
    {
     "name": "stdout",
     "output_type": "stream",
     "text": [
      "                            OLS Regression Results                            \n",
      "==============================================================================\n",
      "Dep. Variable:              diversity   R-squared:                       0.004\n",
      "Model:                            OLS   Adj. R-squared:                  0.004\n",
      "Method:                 Least Squares   F-statistic:                     23.35\n",
      "Date:                Thu, 12 Dec 2024   Prob (F-statistic):           7.62e-11\n",
      "Time:                        17:41:43   Log-Likelihood:                -7653.7\n",
      "No. Observations:               11069   AIC:                         1.531e+04\n",
      "Df Residuals:                   11066   BIC:                         1.534e+04\n",
      "Df Model:                           2                                         \n",
      "Covariance Type:            nonrobust                                         \n",
      "==============================================================================\n",
      "                 coef    std err          t      P>|t|      [0.025      0.975]\n",
      "------------------------------------------------------------------------------\n",
      "const          0.5759      0.005    125.398      0.000       0.567       0.585\n",
      "Ratings       -0.0168      0.005     -3.474      0.001      -0.026      -0.007\n",
      "Nomination     0.0322      0.005      6.673      0.000       0.023       0.042\n",
      "==============================================================================\n",
      "Omnibus:                     1069.519   Durbin-Watson:                   1.988\n",
      "Prob(Omnibus):                  0.000   Jarque-Bera (JB):             1404.096\n",
      "Skew:                           0.863   Prob(JB):                    1.27e-305\n",
      "Kurtosis:                       3.258   Cond. No.                         1.38\n",
      "==============================================================================\n",
      "\n",
      "Notes:\n",
      "[1] Standard Errors assume that the covariance matrix of the errors is correctly specified.\n"
     ]
    }
   ],
   "source": [
    "# train a linear regression model on the training dataset\n",
    "model = sm.OLS(y_train, X_train_scaled).fit()\n",
    "print(model.summary())"
   ]
  },
  {
   "cell_type": "markdown",
   "metadata": {},
   "source": [
    "RMSE values for different regression models are as follows:"
   ]
  },
  {
   "cell_type": "code",
   "execution_count": 8,
   "metadata": {},
   "outputs": [
    {
     "name": "stdout",
     "output_type": "stream",
     "text": [
      "RMSE: 0.50 \n"
     ]
    }
   ],
   "source": [
    "from sklearn.metrics import mean_squared_error\n",
    "\n",
    "# standardize the test features \n",
    "X_test_scaled = scaler.transform(X_test)\n",
    "X_test_scaled = pd.DataFrame(X_test, columns=X_test.columns, index=X_test.index)\n",
    "X_test_scaled = sm.add_constant(X_test_scaled)\n",
    "\n",
    "# make predictions on the test dataset\n",
    "y_pred = model.predict(X_test_scaled)\n",
    "\n",
    "# calculate RMSE\n",
    "rmse = np.sqrt(mean_squared_error(y_test, y_pred))\n",
    "print(f\"RMSE: {rmse:.2f} \")"
   ]
  },
  {
   "cell_type": "code",
   "execution_count": 9,
   "metadata": {},
   "outputs": [
    {
     "data": {
      "image/png": "[encoded data removed]",
      "text/plain": [
       "<Figure size 640x480 with 3 Axes>"
      ]
     },
     "metadata": {},
     "output_type": "display_data"
    }
   ],
   "source": [
    "from statsmodels.graphics.regressionplots import plot_partregress_grid\n",
    "\n",
    "fig = plot_partregress_grid(model)\n",
    "fig.suptitle(\"Partial Regression Plots\")\n",
    "plt.show()"
   ]
  },
  {
   "cell_type": "code",
   "execution_count": 10,
   "metadata": {},
   "outputs": [
    {
     "data": {
      "text/plain": [
       "const         0.000000e+00\n",
       "Ratings       5.147793e-04\n",
       "Nomination    2.624945e-11\n",
       "dtype: float64"
      ]
     },
     "metadata": {},
     "output_type": "display_data"
    },
    {
     "name": "stdout",
     "output_type": "stream",
     "text": [
      "Statistically significant features (p-value < 0.05):\n",
      "const         0.000000e+00\n",
      "Ratings       5.147793e-04\n",
      "Nomination    2.624945e-11\n",
      "dtype: float64\n"
     ]
    }
   ],
   "source": [
    "# Get the p-values from the model summary\n",
    "p_values = model.pvalues\n",
    "display(p_values)\n",
    "# Display features with p-values < 0.05\n",
    "significant_features = p_values[p_values < 0.05]\n",
    "print(\"Statistically significant features (p-value < 0.05):\")\n",
    "print(significant_features)"
   ]
  },
  {
   "cell_type": "code",
   "execution_count": 11,
   "metadata": {},
   "outputs": [
    {
     "name": "stdout",
     "output_type": "stream",
     "text": [
      "const         0.575906\n",
      "Nomination    0.032247\n",
      "Ratings       0.016788\n",
      "dtype: float64\n"
     ]
    }
   ],
   "source": [
    "# get the models coefficients\n",
    "coefficients = model.params\n",
    "\n",
    "# we sort these coefficients \n",
    "sorted_coefficients = coefficients.abs().sort_values(ascending=False)\n",
    "\n",
    "# we keep the two features with the highest coef\n",
    "top_2_features = sorted_coefficients.head(3)\n",
    "print(top_2_features)"
   ]
  },
  {
   "cell_type": "markdown",
   "metadata": {},
   "source": [
    "DOES DIVERSITY CAN PREDICT SUCESS OF A MOVIE?"
   ]
  },
  {
   "cell_type": "code",
   "execution_count": null,
   "metadata": {},
   "outputs": [],
   "source": [
    "# display the subset of succes_movies_df without the Nan on the subset of 'Box_office_revenue'\n",
    "success_movies_df = success_movies_df.dropna(subset=['diversity'])\n",
    "success_movies_df = success_movies_df[success_movies_df[\"actor_number\"] != 1]"
   ]
  }
 ],
 "metadata": {
  "kernelspec": {
   "display_name": "ada2024",
   "language": "python",
   "name": "python3"
  },
  "language_info": {
   "codemirror_mode": {
    "name": "ipython",
    "version": 3
   },
   "file_extension": ".py",
   "mimetype": "text/x-python",
   "name": "python",
   "nbconvert_exporter": "python",
   "pygments_lexer": "ipython3",
   "version": "3.13.0"
  }
 },
 "nbformat": 4,
 "nbformat_minor": 2
}
