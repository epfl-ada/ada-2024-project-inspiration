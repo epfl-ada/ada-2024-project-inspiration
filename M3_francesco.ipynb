{
 "cells": [
  {
   "cell_type": "code",
   "execution_count": 1,
   "metadata": {},
   "outputs": [],
   "source": [
    "# Some basic imports\n",
    "import os\n",
    "import pandas as pd\n",
    "import numpy as np\n",
    "import matplotlib.pyplot as plt\n",
    "from scipy import stats\n",
    "import seaborn as sns\n",
    "import warnings\n",
    "import ast\n",
    "import re\n"
   ]
  },
  {
   "cell_type": "code",
   "execution_count": 2,
   "metadata": {},
   "outputs": [
    {
     "data": {
      "text/plain": [
       "count    21481.000000\n",
       "mean         6.208342\n",
       "std          1.070229\n",
       "min          1.200000\n",
       "25%          5.600000\n",
       "50%          6.300000\n",
       "75%          6.900000\n",
       "max          9.300000\n",
       "Name: Ratings, dtype: float64"
      ]
     },
     "execution_count": 2,
     "metadata": {},
     "output_type": "execute_result"
    }
   ],
   "source": [
    "# Load the general data:\n",
    "success_movies_path = 'data/processed_data/success_movies.csv'\n",
    "ethnicity_path = 'data/processed_data/diversity_final.csv'\n",
    "\n",
    "success_movies_df = pd.read_csv(success_movies_path, sep=',')\n",
    "ethnicity_df = pd.read_csv(ethnicity_path, sep=',')\n",
    "success_movies_df.head()\n",
    "\n",
    "test_df = ethnicity_df.merge(success_movies_df, how='inner', on='Wikipedia_movie_ID')\n",
    "test_df['Ratings'].describe()"
   ]
  },
  {
   "cell_type": "code",
   "execution_count": 3,
   "metadata": {},
   "outputs": [
    {
     "data": {
      "text/plain": [
       "count    2.085000e+03\n",
       "mean     4.665568e+07\n",
       "std      1.001648e+08\n",
       "min      1.020000e+04\n",
       "25%      2.000000e+06\n",
       "50%      9.808124e+06\n",
       "75%      3.811948e+07\n",
       "max      9.260471e+08\n",
       "Name: Movie_box_office_revenue, dtype: float64"
      ]
     },
     "execution_count": 3,
     "metadata": {},
     "output_type": "execute_result"
    }
   ],
   "source": [
    "test_df['Movie_box_office_revenue'].describe()"
   ]
  },
  {
   "cell_type": "markdown",
   "metadata": {},
   "source": [
    "## Regression\n"
   ]
  },
  {
   "cell_type": "code",
   "execution_count": 5,
   "metadata": {},
   "outputs": [
    {
     "name": "stdout",
     "output_type": "stream",
     "text": [
      "The number of samples in the training set is: 17184\n",
      "The number of samples in the test set is: 4297\n"
     ]
    }
   ],
   "source": [
    "from sklearn.model_selection import train_test_split\n",
    "# split the data into train and test sets using a 80-20 split\n",
    "train, test = train_test_split(test_df, test_size=0.2, random_state=42)\n",
    "\n",
    "# print number of samples in the training and test sets\n",
    "print(f\"The number of samples in the training set is: {train.shape[0]}\")\n",
    "print(f\"The number of samples in the test set is: {test.shape[0]}\")"
   ]
  },
  {
   "cell_type": "code",
   "execution_count": null,
   "metadata": {},
   "outputs": [],
   "source": [
    "# split the data into features and target for the train and test datasets. \n",
    "# features contains all the columns minus the column price and label contains only the column price. \n"
   ]
  }
 ],
 "metadata": {
  "kernelspec": {
   "display_name": "ada2024",
   "language": "python",
   "name": "python3"
  },
  "language_info": {
   "codemirror_mode": {
    "name": "ipython",
    "version": 3
   },
   "file_extension": ".py",
   "mimetype": "text/x-python",
   "name": "python",
   "nbconvert_exporter": "python",
   "pygments_lexer": "ipython3",
   "version": "3.13.0"
  }
 },
 "nbformat": 4,
 "nbformat_minor": 2
}
