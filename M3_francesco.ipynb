{
 "cells": [
  {
   "cell_type": "code",
   "execution_count": 1,
   "metadata": {},
   "outputs": [],
   "source": [
    "# Some basic imports\n",
    "import os\n",
    "import pandas as pd\n",
    "import numpy as np\n",
    "import matplotlib.pyplot as plt\n",
    "from scipy import stats\n",
    "import seaborn as sns\n",
    "import warnings\n",
    "import ast\n",
    "import re"
   ]
  },
  {
   "cell_type": "code",
   "execution_count": 2,
   "metadata": {},
   "outputs": [
    {
     "data": {
      "text/html": [
       "<div>\n",
       "<style scoped>\n",
       "    .dataframe tbody tr th:only-of-type {\n",
       "        vertical-align: middle;\n",
       "    }\n",
       "\n",
       "    .dataframe tbody tr th {\n",
       "        vertical-align: top;\n",
       "    }\n",
       "\n",
       "    .dataframe thead th {\n",
       "        text-align: right;\n",
       "    }\n",
       "</style>\n",
       "<table border=\"1\" class=\"dataframe\">\n",
       "  <thead>\n",
       "    <tr style=\"text-align: right;\">\n",
       "      <th></th>\n",
       "      <th>Movie_name</th>\n",
       "      <th>Movie_release_date</th>\n",
       "      <th>Ratings</th>\n",
       "      <th>Wikipedia_movie_ID</th>\n",
       "      <th>Actor_ethnicity</th>\n",
       "      <th>Movie_countries</th>\n",
       "      <th>Movie_box_office_revenue</th>\n",
       "      <th>Nomination</th>\n",
       "      <th>Success</th>\n",
       "    </tr>\n",
       "  </thead>\n",
       "  <tbody>\n",
       "    <tr>\n",
       "      <th>0</th>\n",
       "      <td>$</td>\n",
       "      <td>1971</td>\n",
       "      <td>6.3</td>\n",
       "      <td>4213160.0</td>\n",
       "      <td>Hungarian Americans</td>\n",
       "      <td>{'United States of America'}</td>\n",
       "      <td>NaN</td>\n",
       "      <td>False</td>\n",
       "      <td>0</td>\n",
       "    </tr>\n",
       "    <tr>\n",
       "      <th>1</th>\n",
       "      <td>$9.99</td>\n",
       "      <td>2008</td>\n",
       "      <td>6.7</td>\n",
       "      <td>20624798.0</td>\n",
       "      <td>Australians</td>\n",
       "      <td>{'Australia', 'Israel'}</td>\n",
       "      <td>NaN</td>\n",
       "      <td>False</td>\n",
       "      <td>0</td>\n",
       "    </tr>\n",
       "    <tr>\n",
       "      <th>2</th>\n",
       "      <td>'R Xmas</td>\n",
       "      <td>2001</td>\n",
       "      <td>5.7</td>\n",
       "      <td>24799628.0</td>\n",
       "      <td>Italian Americans</td>\n",
       "      <td>{'France', 'United States of America'}</td>\n",
       "      <td>NaN</td>\n",
       "      <td>False</td>\n",
       "      <td>0</td>\n",
       "    </tr>\n",
       "    <tr>\n",
       "      <th>3</th>\n",
       "      <td>'Til There Was You</td>\n",
       "      <td>1997</td>\n",
       "      <td>4.8</td>\n",
       "      <td>17841580.0</td>\n",
       "      <td>Irish Americans</td>\n",
       "      <td>{'United States of America'}</td>\n",
       "      <td>NaN</td>\n",
       "      <td>False</td>\n",
       "      <td>0</td>\n",
       "    </tr>\n",
       "    <tr>\n",
       "      <th>4</th>\n",
       "      <td>'Til We Meet Again</td>\n",
       "      <td>1940</td>\n",
       "      <td>6.7</td>\n",
       "      <td>16038391.0</td>\n",
       "      <td>Irish Americans</td>\n",
       "      <td>{'United States of America'}</td>\n",
       "      <td>NaN</td>\n",
       "      <td>False</td>\n",
       "      <td>0</td>\n",
       "    </tr>\n",
       "  </tbody>\n",
       "</table>\n",
       "</div>"
      ],
      "text/plain": [
       "           Movie_name  Movie_release_date  Ratings  Wikipedia_movie_ID  \\\n",
       "0                   $                1971      6.3           4213160.0   \n",
       "1               $9.99                2008      6.7          20624798.0   \n",
       "2             'R Xmas                2001      5.7          24799628.0   \n",
       "3  'Til There Was You                1997      4.8          17841580.0   \n",
       "4  'Til We Meet Again                1940      6.7          16038391.0   \n",
       "\n",
       "       Actor_ethnicity                         Movie_countries  \\\n",
       "0  Hungarian Americans            {'United States of America'}   \n",
       "1          Australians                 {'Australia', 'Israel'}   \n",
       "2    Italian Americans  {'France', 'United States of America'}   \n",
       "3      Irish Americans            {'United States of America'}   \n",
       "4      Irish Americans            {'United States of America'}   \n",
       "\n",
       "   Movie_box_office_revenue  Nomination  Success  \n",
       "0                       NaN       False        0  \n",
       "1                       NaN       False        0  \n",
       "2                       NaN       False        0  \n",
       "3                       NaN       False        0  \n",
       "4                       NaN       False        0  "
      ]
     },
     "execution_count": 2,
     "metadata": {},
     "output_type": "execute_result"
    }
   ],
   "source": [
    "# Load the general data:\n",
    "success_movies_path = 'data/processed_data/success_movies.csv'\n",
    "ethnicity_path = 'data/processed_data/diversity_final.csv'\n",
    "\n",
    "success_movies_df = pd.read_csv(success_movies_path, sep=',')\n",
    "ethnicity_df = pd.read_csv(ethnicity_path, sep=',')\n",
    "success_movies_df.head()"
   ]
  },
  {
   "cell_type": "markdown",
   "metadata": {},
   "source": [
    "## Assessing Correlation between Diversity and Success\n",
    "\n",
    "- Correlation Analysis: Evaluate the dependency between diversity and film success using: Pearson correlation (stats.pearson) for linear associations.\n",
    "\n",
    "- Spearman correlation (stats.spearman) \n",
    "\n",
    "- Regression Analysis: Investigate the association type (e.g., weak, negative, positive) through linear regression."
   ]
  },
  {
   "cell_type": "code",
   "execution_count": 3,
   "metadata": {},
   "outputs": [
    {
     "data": {
      "text/plain": [
       "32510"
      ]
     },
     "execution_count": 3,
     "metadata": {},
     "output_type": "execute_result"
    }
   ],
   "source": [
    "\n",
    "len(ethnicity_df['Wikipedia_movie_ID'].unique())"
   ]
  },
  {
   "cell_type": "code",
   "execution_count": 5,
   "metadata": {},
   "outputs": [
    {
     "data": {
      "text/plain": [
       "21090"
      ]
     },
     "execution_count": 5,
     "metadata": {},
     "output_type": "execute_result"
    }
   ],
   "source": [
    "len(success_movies_df['Wikipedia_movie_ID'].unique())"
   ]
  },
  {
   "cell_type": "code",
   "execution_count": 6,
   "metadata": {},
   "outputs": [
    {
     "data": {
      "text/plain": [
       "21481"
      ]
     },
     "execution_count": 6,
     "metadata": {},
     "output_type": "execute_result"
    }
   ],
   "source": [
    "len(success_movies_df)"
   ]
  },
  {
   "cell_type": "code",
   "execution_count": 7,
   "metadata": {},
   "outputs": [
    {
     "data": {
      "text/plain": [
       "Movie_name               Movie_release_date  Ratings  Wikipedia_movie_ID  Actor_ethnicity    Movie_countries                                             Movie_box_office_revenue  Nomination  Success\n",
       "Emma                     1996                6.6      2654649.0           English people     {'United Kingdom'}                                          2500000.0                 True        0          3\n",
       "Contact                  1997                7.5      422269.0            English Americans  {'United States of America'}                                3255426.0                 True        0          2\n",
       "Othello                  1965                7.0      1345984.0           English people     {'United Kingdom'}                                          3400000.0                 True        0          2\n",
       "Pinocchio                1940                7.5      187010.0            Jewish people      {'United States of America'}                                7856048.0                 True        0          2\n",
       "                         2002                4.3      8485902.0           Italians           {'Italy', 'France', 'Germany', 'United States of America'}  1004000.0                 True        0          2\n",
       "                                                                                                                                                                                                         ..\n",
       "A Dangerous Profession   1949                6.0      15297491.0          Irish Americans    {'United States of America'}                                62172050.0                False       1          1\n",
       "A Day Without a Mexican  2004                4.8      991410.0            Jewish people      {'Mexico', 'Spain', 'United States of America'}             7185518.0                 False       0          1\n",
       "A Devil with Women       1930                6.9      33695033.0          Dutch Americans    {'United States of America'}                                12506188.0                False       0          1\n",
       "A Family Affair          1937                6.6      17712808.0          Swedish Americans  {'United States of America'}                                60328558.0                False       1          1\n",
       "Without Evidence         1995                3.9      4091030.0           Slovak Americans   {'United States of America'}                                43900000.0                False       1          1\n",
       "Name: count, Length: 2075, dtype: int64"
      ]
     },
     "execution_count": 7,
     "metadata": {},
     "output_type": "execute_result"
    }
   ],
   "source": [
    "success_movies_df.value_counts()"
   ]
  },
  {
   "cell_type": "code",
   "execution_count": null,
   "metadata": {},
   "outputs": [],
   "source": []
  }
 ],
 "metadata": {
  "kernelspec": {
   "display_name": "ada2024",
   "language": "python",
   "name": "python3"
  },
  "language_info": {
   "codemirror_mode": {
    "name": "ipython",
    "version": 3
   },
   "file_extension": ".py",
   "mimetype": "text/x-python",
   "name": "python",
   "nbconvert_exporter": "python",
   "pygments_lexer": "ipython3",
   "version": "3.13.0"
  }
 },
 "nbformat": 4,
 "nbformat_minor": 2
}
