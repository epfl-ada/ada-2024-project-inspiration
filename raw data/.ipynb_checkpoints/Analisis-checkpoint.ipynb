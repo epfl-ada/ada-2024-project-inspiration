{
 "cells": [
  {
   "cell_type": "code",
   "execution_count": 5,
   "id": "d31f2d6b-8b3a-4669-8751-d3478cf0db1e",
   "metadata": {},
   "outputs": [
    {
     "ename": "SyntaxError",
     "evalue": "unexpected character after line continuation character (3586250657.py, line 1)",
     "output_type": "error",
     "traceback": [
      "\u001b[1;36m  Cell \u001b[1;32mIn[5], line 1\u001b[1;36m\u001b[0m\n\u001b[1;33m    character_metadata = \\Users\\flore\\Desktop\\EPFL_part2\\MA1\\ADA\\MovieSummaries\\character.metadata.tsv\u001b[0m\n\u001b[1;37m                          ^\u001b[0m\n\u001b[1;31mSyntaxError\u001b[0m\u001b[1;31m:\u001b[0m unexpected character after line continuation character\n"
     ]
    }
   ],
   "source": [
    "character_metadata = \\Users\\flore\\Desktop\\EPFL_part2\\MA1\\ADA\\MovieSummaries\\character.metadata.tsv\n",
    "print(character.metadata)"
   ]
  },
  {
   "cell_type": "code",
   "execution_count": null,
   "id": "187076f7-2e61-4556-ada9-d31330728652",
   "metadata": {},
   "outputs": [],
   "source": []
  }
 ],
 "metadata": {
  "kernelspec": {
   "display_name": "Python 3 (ipykernel)",
   "language": "python",
   "name": "python3"
  },
  "language_info": {
   "codemirror_mode": {
    "name": "ipython",
    "version": 3
   },
   "file_extension": ".py",
   "mimetype": "text/x-python",
   "name": "python",
   "nbconvert_exporter": "python",
   "pygments_lexer": "ipython3",
   "version": "3.9.19"
  }
 },
 "nbformat": 4,
 "nbformat_minor": 5
}
