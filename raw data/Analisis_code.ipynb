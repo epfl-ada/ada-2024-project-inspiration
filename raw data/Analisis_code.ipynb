{
 "cells": [
  {
   "cell_type": "code",
   "execution_count": 2,
   "id": "d31f2d6b-8b3a-4669-8751-d3478cf0db1e",
   "metadata": {},
   "outputs": [
    {
     "name": "stdout",
     "output_type": "stream",
     "text": [
      "   975900  /m/03vyhn  2001-08-24                    Akooshay  1958-08-26  F  \\\n",
      "0  975900  /m/03vyhn  2001-08-24  Lieutenant Melanie Ballard  1974-08-15  F   \n",
      "1  975900  /m/03vyhn  2001-08-24         Desolation Williams  1969-06-15  M   \n",
      "2  975900  /m/03vyhn  2001-08-24          Sgt Jericho Butler  1967-09-12  M   \n",
      "3  975900  /m/03vyhn  2001-08-24             Bashira Kincaid  1977-09-25  F   \n",
      "4  975900  /m/03vyhn  2001-08-24   Commander Helena Braddock  1949-05-26  F   \n",
      "\n",
      "    1.62  Unnamed: 7      Wanda De Jesus    42  /m/0bgchxw  /m/0bgcj3x  \\\n",
      "0  1.780  /m/044038p  Natasha Henstridge  27.0   /m/0jys3m  /m/0bgchn4   \n",
      "1  1.727     /m/0x67            Ice Cube  32.0   /m/0jys3g  /m/0bgchn_   \n",
      "2  1.750         NaN       Jason Statham  33.0  /m/02vchl6  /m/0bgchnq   \n",
      "3  1.650         NaN         Clea DuVall  23.0  /m/02vbb3r  /m/0bgchp9   \n",
      "4  1.727     /m/0x67           Pam Grier  52.0  /m/02vdcfp  /m/0bgchnd   \n",
      "\n",
      "   /m/03wcfv7  \n",
      "0   /m/0346l4  \n",
      "1  /m/01vw26l  \n",
      "2   /m/034hyc  \n",
      "3   /m/01y9xg  \n",
      "4   /m/0418ft  \n"
     ]
    }
   ],
   "source": [
    "import pandas as pd\n",
    "\n",
    "# Provide the correct file path\n",
    "file_path = r'C:\\Users\\flore\\Desktop\\EPFL_part2\\MA1\\ADA\\MovieSummaries\\character.metadata.tsv'\n",
    "\n",
    "# Load the data\n",
    "character_metadata = pd.read_csv(file_path, sep='\\t')\n",
    "\n",
    "# Print the DataFrame\n",
    "print(character_metadata.head())"
   ]
  },
  {
   "cell_type": "code",
   "execution_count": null,
   "id": "187076f7-2e61-4556-ada9-d31330728652",
   "metadata": {},
   "outputs": [],
   "source": []
  }
 ],
 "metadata": {
  "kernelspec": {
   "display_name": "ADA",
   "language": "python",
   "name": "python3"
  },
  "language_info": {
   "codemirror_mode": {
    "name": "ipython",
    "version": 3
   },
   "file_extension": ".py",
   "mimetype": "text/x-python",
   "name": "python",
   "nbconvert_exporter": "python",
   "pygments_lexer": "ipython3",
   "version": "3.9.20"
  }
 },
 "nbformat": 4,
 "nbformat_minor": 5
}
