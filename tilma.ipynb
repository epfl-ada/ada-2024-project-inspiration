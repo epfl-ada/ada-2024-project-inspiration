{
 "cells": [
  {
   "cell_type": "code",
   "execution_count": 1,
   "metadata": {},
   "outputs": [],
   "source": [
    "# Some basic imports\n",
    "import os\n",
    "import pandas as pd\n",
    "import numpy as np\n",
    "import matplotlib.pyplot as plt\n",
    "import warnings\n",
    "import ast\n",
    "import re"
   ]
  },
  {
   "cell_type": "code",
   "execution_count": 17,
   "metadata": {},
   "outputs": [],
   "source": [
    "ethnicity_df_path = 'data/processed_data/diversity_final.csv'\n",
    "sucess_movies_df_path = 'data/processed_data/success_movies_df.csv'\n",
    "\n",
    "ethnicity_df = pd.read_csv(ethnicity_df_path)\n",
    "sucess_movies_df = pd.read_csv(sucess_movies_df_path)"
   ]
  },
  {
   "cell_type": "code",
   "execution_count": 27,
   "metadata": {},
   "outputs": [
    {
     "data": {
      "text/html": [
       "<div>\n",
       "<style scoped>\n",
       "    .dataframe tbody tr th:only-of-type {\n",
       "        vertical-align: middle;\n",
       "    }\n",
       "\n",
       "    .dataframe tbody tr th {\n",
       "        vertical-align: top;\n",
       "    }\n",
       "\n",
       "    .dataframe thead th {\n",
       "        text-align: right;\n",
       "    }\n",
       "</style>\n",
       "<table border=\"1\" class=\"dataframe\">\n",
       "  <thead>\n",
       "    <tr style=\"text-align: right;\">\n",
       "      <th></th>\n",
       "      <th>Movie_name</th>\n",
       "      <th>Movie_release_date</th>\n",
       "      <th>Ratings</th>\n",
       "      <th>Wikipedia_movie_ID</th>\n",
       "      <th>Actor_ethnicity</th>\n",
       "      <th>Movie_countries</th>\n",
       "      <th>Movie_box_office_revenue</th>\n",
       "      <th>Nomination</th>\n",
       "      <th>Success</th>\n",
       "    </tr>\n",
       "  </thead>\n",
       "  <tbody>\n",
       "    <tr>\n",
       "      <th>0</th>\n",
       "      <td>$</td>\n",
       "      <td>1971</td>\n",
       "      <td>6.3</td>\n",
       "      <td>4213160.0</td>\n",
       "      <td>Hungarian Americans</td>\n",
       "      <td>{'United States of America'}</td>\n",
       "      <td>NaN</td>\n",
       "      <td>False</td>\n",
       "      <td>0</td>\n",
       "    </tr>\n",
       "    <tr>\n",
       "      <th>1</th>\n",
       "      <td>$9.99</td>\n",
       "      <td>2008</td>\n",
       "      <td>6.7</td>\n",
       "      <td>20624798.0</td>\n",
       "      <td>Australians</td>\n",
       "      <td>{'Australia', 'Israel'}</td>\n",
       "      <td>NaN</td>\n",
       "      <td>False</td>\n",
       "      <td>0</td>\n",
       "    </tr>\n",
       "    <tr>\n",
       "      <th>2</th>\n",
       "      <td>'R Xmas</td>\n",
       "      <td>2001</td>\n",
       "      <td>5.7</td>\n",
       "      <td>24799628.0</td>\n",
       "      <td>Italian Americans</td>\n",
       "      <td>{'France', 'United States of America'}</td>\n",
       "      <td>NaN</td>\n",
       "      <td>False</td>\n",
       "      <td>0</td>\n",
       "    </tr>\n",
       "    <tr>\n",
       "      <th>3</th>\n",
       "      <td>'Til There Was You</td>\n",
       "      <td>1997</td>\n",
       "      <td>4.8</td>\n",
       "      <td>17841580.0</td>\n",
       "      <td>Irish Americans</td>\n",
       "      <td>{'United States of America'}</td>\n",
       "      <td>NaN</td>\n",
       "      <td>False</td>\n",
       "      <td>0</td>\n",
       "    </tr>\n",
       "    <tr>\n",
       "      <th>4</th>\n",
       "      <td>'Til We Meet Again</td>\n",
       "      <td>1940</td>\n",
       "      <td>6.7</td>\n",
       "      <td>16038391.0</td>\n",
       "      <td>Irish Americans</td>\n",
       "      <td>{'United States of America'}</td>\n",
       "      <td>NaN</td>\n",
       "      <td>False</td>\n",
       "      <td>0</td>\n",
       "    </tr>\n",
       "  </tbody>\n",
       "</table>\n",
       "</div>"
      ],
      "text/plain": [
       "           Movie_name  Movie_release_date  Ratings  Wikipedia_movie_ID  \\\n",
       "0                   $                1971      6.3           4213160.0   \n",
       "1               $9.99                2008      6.7          20624798.0   \n",
       "2             'R Xmas                2001      5.7          24799628.0   \n",
       "3  'Til There Was You                1997      4.8          17841580.0   \n",
       "4  'Til We Meet Again                1940      6.7          16038391.0   \n",
       "\n",
       "       Actor_ethnicity                         Movie_countries  \\\n",
       "0  Hungarian Americans            {'United States of America'}   \n",
       "1          Australians                 {'Australia', 'Israel'}   \n",
       "2    Italian Americans  {'France', 'United States of America'}   \n",
       "3      Irish Americans            {'United States of America'}   \n",
       "4      Irish Americans            {'United States of America'}   \n",
       "\n",
       "   Movie_box_office_revenue  Nomination  Success  \n",
       "0                       NaN       False        0  \n",
       "1                       NaN       False        0  \n",
       "2                       NaN       False        0  \n",
       "3                       NaN       False        0  \n",
       "4                       NaN       False        0  "
      ]
     },
     "execution_count": 27,
     "metadata": {},
     "output_type": "execute_result"
    }
   ],
   "source": [
    "ethnicity_df.head()\n",
    "sucess_movies_df.head()"
   ]
  },
  {
   "cell_type": "code",
   "execution_count": 28,
   "metadata": {},
   "outputs": [
    {
     "data": {
      "text/html": [
       "<div>\n",
       "<style scoped>\n",
       "    .dataframe tbody tr th:only-of-type {\n",
       "        vertical-align: middle;\n",
       "    }\n",
       "\n",
       "    .dataframe tbody tr th {\n",
       "        vertical-align: top;\n",
       "    }\n",
       "\n",
       "    .dataframe thead th {\n",
       "        text-align: right;\n",
       "    }\n",
       "</style>\n",
       "<table border=\"1\" class=\"dataframe\">\n",
       "  <thead>\n",
       "    <tr style=\"text-align: right;\">\n",
       "      <th></th>\n",
       "      <th>Wikipedia_movie_ID</th>\n",
       "      <th>ethnicity_number</th>\n",
       "      <th>actor_number</th>\n",
       "      <th>naive_diversity</th>\n",
       "      <th>normalised_entropy</th>\n",
       "      <th>diversity</th>\n",
       "      <th>Movie_name</th>\n",
       "      <th>Movie_release_date</th>\n",
       "      <th>Ratings</th>\n",
       "      <th>Actor_ethnicity</th>\n",
       "      <th>Movie_countries</th>\n",
       "      <th>Movie_box_office_revenue</th>\n",
       "      <th>Nomination</th>\n",
       "      <th>Success</th>\n",
       "    </tr>\n",
       "  </thead>\n",
       "  <tbody>\n",
       "    <tr>\n",
       "      <th>0</th>\n",
       "      <td>3217</td>\n",
       "      <td>1</td>\n",
       "      <td>2</td>\n",
       "      <td>0.500000</td>\n",
       "      <td>0.434294</td>\n",
       "      <td>0.217147</td>\n",
       "      <td>Army of Darkness</td>\n",
       "      <td>1992</td>\n",
       "      <td>7.4</td>\n",
       "      <td>White Americans</td>\n",
       "      <td>{'United States of America'}</td>\n",
       "      <td>NaN</td>\n",
       "      <td>False</td>\n",
       "      <td>0</td>\n",
       "    </tr>\n",
       "    <tr>\n",
       "      <th>1</th>\n",
       "      <td>3333</td>\n",
       "      <td>0</td>\n",
       "      <td>1</td>\n",
       "      <td>0.000000</td>\n",
       "      <td>NaN</td>\n",
       "      <td>NaN</td>\n",
       "      <td>The Birth of a Nation</td>\n",
       "      <td>1915</td>\n",
       "      <td>6.1</td>\n",
       "      <td>Scottish Americans</td>\n",
       "      <td>{'United States of America'}</td>\n",
       "      <td>NaN</td>\n",
       "      <td>False</td>\n",
       "      <td>0</td>\n",
       "    </tr>\n",
       "    <tr>\n",
       "      <th>2</th>\n",
       "      <td>3746</td>\n",
       "      <td>2</td>\n",
       "      <td>4</td>\n",
       "      <td>0.500000</td>\n",
       "      <td>1.169619</td>\n",
       "      <td>0.584809</td>\n",
       "      <td>Blade Runner</td>\n",
       "      <td>1982</td>\n",
       "      <td>8.1</td>\n",
       "      <td>German Americans</td>\n",
       "      <td>{'Hong Kong', 'United States of America'}</td>\n",
       "      <td>NaN</td>\n",
       "      <td>True</td>\n",
       "      <td>1</td>\n",
       "    </tr>\n",
       "    <tr>\n",
       "      <th>3</th>\n",
       "      <td>3837</td>\n",
       "      <td>2</td>\n",
       "      <td>9</td>\n",
       "      <td>0.222222</td>\n",
       "      <td>1.160874</td>\n",
       "      <td>0.257972</td>\n",
       "      <td>Blazing Saddles</td>\n",
       "      <td>1974</td>\n",
       "      <td>7.7</td>\n",
       "      <td>Italian Americans</td>\n",
       "      <td>{'United States of America'}</td>\n",
       "      <td>NaN</td>\n",
       "      <td>True</td>\n",
       "      <td>1</td>\n",
       "    </tr>\n",
       "    <tr>\n",
       "      <th>4</th>\n",
       "      <td>3947</td>\n",
       "      <td>0</td>\n",
       "      <td>3</td>\n",
       "      <td>0.000000</td>\n",
       "      <td>NaN</td>\n",
       "      <td>NaN</td>\n",
       "      <td>Blue Velvet</td>\n",
       "      <td>1986</td>\n",
       "      <td>7.7</td>\n",
       "      <td>Swedish Americans</td>\n",
       "      <td>{'United States of America'}</td>\n",
       "      <td>NaN</td>\n",
       "      <td>True</td>\n",
       "      <td>1</td>\n",
       "    </tr>\n",
       "  </tbody>\n",
       "</table>\n",
       "</div>"
      ],
      "text/plain": [
       "   Wikipedia_movie_ID  ethnicity_number  actor_number  naive_diversity  \\\n",
       "0                3217                 1             2         0.500000   \n",
       "1                3333                 0             1         0.000000   \n",
       "2                3746                 2             4         0.500000   \n",
       "3                3837                 2             9         0.222222   \n",
       "4                3947                 0             3         0.000000   \n",
       "\n",
       "   normalised_entropy  diversity             Movie_name  Movie_release_date  \\\n",
       "0            0.434294   0.217147       Army of Darkness                1992   \n",
       "1                 NaN        NaN  The Birth of a Nation                1915   \n",
       "2            1.169619   0.584809           Blade Runner                1982   \n",
       "3            1.160874   0.257972        Blazing Saddles                1974   \n",
       "4                 NaN        NaN            Blue Velvet                1986   \n",
       "\n",
       "   Ratings     Actor_ethnicity                            Movie_countries  \\\n",
       "0      7.4     White Americans               {'United States of America'}   \n",
       "1      6.1  Scottish Americans               {'United States of America'}   \n",
       "2      8.1    German Americans  {'Hong Kong', 'United States of America'}   \n",
       "3      7.7   Italian Americans               {'United States of America'}   \n",
       "4      7.7   Swedish Americans               {'United States of America'}   \n",
       "\n",
       "   Movie_box_office_revenue  Nomination  Success  \n",
       "0                       NaN       False        0  \n",
       "1                       NaN       False        0  \n",
       "2                       NaN        True        1  \n",
       "3                       NaN        True        1  \n",
       "4                       NaN        True        1  "
      ]
     },
     "execution_count": 28,
     "metadata": {},
     "output_type": "execute_result"
    }
   ],
   "source": [
    "ethnicity_sucess= pd.merge(ethnicity_df,sucess_movies_df,on=['Wikipedia_movie_ID'],how='inner')\n",
    "ethnicity_sucess.head()"
   ]
  },
  {
   "cell_type": "code",
   "execution_count": 29,
   "metadata": {},
   "outputs": [],
   "source": [
    "ethnicity_sucess_df=ethnicity_sucess.dropna(subset=['diversity'])"
   ]
  },
  {
   "cell_type": "markdown",
   "metadata": {},
   "source": [
    "Is diversity higher in sucessful movies compared to less successful movies ?"
   ]
  },
  {
   "cell_type": "code",
   "execution_count": 32,
   "metadata": {},
   "outputs": [
    {
     "data": {
      "text/plain": [
       "np.float64(0.33226197858797096)"
      ]
     },
     "execution_count": 32,
     "metadata": {},
     "output_type": "execute_result"
    }
   ],
   "source": [
    "ethnicity_sucess_df.loc[ethnicity_sucess_df['Success'] == 1]['diversity'].mean()"
   ]
  },
  {
   "cell_type": "code",
   "execution_count": 33,
   "metadata": {},
   "outputs": [
    {
     "data": {
      "text/plain": [
       "np.float64(0.36933721773227834)"
      ]
     },
     "execution_count": 33,
     "metadata": {},
     "output_type": "execute_result"
    }
   ],
   "source": [
    "ethnicity_sucess_df.loc[ethnicity_sucess_df['Success'] == 0]['diversity'].mean()"
   ]
  },
  {
   "cell_type": "markdown",
   "metadata": {},
   "source": [
    "the diversity factor seems slightly higher for less successful films than for successful films. "
   ]
  },
  {
   "cell_type": "markdown",
   "metadata": {},
   "source": [
    "Is this difference significant?  Let's use a t-test."
   ]
  },
  {
   "cell_type": "code",
   "execution_count": 38,
   "metadata": {},
   "outputs": [],
   "source": [
    "from statsmodels.stats import diagnostic\n",
    "from scipy import stats\n",
    "import seaborn as sns"
   ]
  },
  {
   "cell_type": "code",
   "execution_count": 39,
   "metadata": {},
   "outputs": [
    {
     "data": {
      "text/plain": [
       "TtestResult(statistic=np.float64(-4.830679292625512), pvalue=np.float64(1.3731766127325955e-06), df=np.float64(16132.0))"
      ]
     },
     "execution_count": 39,
     "metadata": {},
     "output_type": "execute_result"
    }
   ],
   "source": [
    "stats.ttest_ind(ethnicity_sucess_df.loc[ethnicity_sucess_df['Success'] == 1]['diversity'], ethnicity_sucess_df.loc[ethnicity_sucess_df['Success'] == 0]['diversity'])"
   ]
  },
  {
   "cell_type": "markdown",
   "metadata": {},
   "source": [
    "the p-value is 0.00000137; smaller than 0.05. threefore we can reject the null hypothesis that the diversity accross the sucessful and less succesful movies is the same. There is a significant difference. "
   ]
  },
  {
   "cell_type": "code",
   "execution_count": 40,
   "metadata": {},
   "outputs": [
    {
     "data": {
      "text/plain": [
       "(0.0, 1.0)"
      ]
     },
     "execution_count": 40,
     "metadata": {},
     "output_type": "execute_result"
    },
    {
     "data": {
      "image/png": "[encoded data removed]",
      "text/plain": [
       "<Figure size 640x480 with 1 Axes>"
      ]
     },
     "metadata": {},
     "output_type": "display_data"
    }
   ],
   "source": [
    "ax = sns.barplot(x=\"Success\", y=\"diversity\", data=ethnicity_sucess_df.loc[ethnicity_sucess_df['Success'].isin([0,1])])\n",
    "plt.ylim([0,1])"
   ]
  },
  {
   "cell_type": "markdown",
   "metadata": {},
   "source": []
  }
 ],
 "metadata": {
  "kernelspec": {
   "display_name": "ada_again",
   "language": "python",
   "name": "python3"
  },
  "language_info": {
   "codemirror_mode": {
    "name": "ipython",
    "version": 3
   },
   "file_extension": ".py",
   "mimetype": "text/x-python",
   "name": "python",
   "nbconvert_exporter": "python",
   "pygments_lexer": "ipython3",
   "version": "3.12.7"
  }
 },
 "nbformat": 4,
 "nbformat_minor": 2
}
