{
 "cells": [
  {
   "cell_type": "code",
   "execution_count": 1,
   "metadata": {},
   "outputs": [],
   "source": [
    "# Some basic imports\n",
    "import os\n",
    "import pandas as pd\n",
    "import numpy as np\n",
    "import matplotlib.pyplot as plt\n",
    "import warnings\n",
    "import ast\n",
    "import re"
   ]
  },
  {
   "cell_type": "code",
   "execution_count": 12,
   "metadata": {},
   "outputs": [],
   "source": [
    "import src.data.cleaning_data as cleandata\n",
    "import src.data.diversity as diversity_calc"
   ]
  },
  {
   "cell_type": "code",
   "execution_count": 6,
   "metadata": {},
   "outputs": [
    {
     "name": "stderr",
     "output_type": "stream",
     "text": [
      "c:\\Users\\slage\\OneDrive\\Berend\\EPFL\\Applied data analysis\\Project\\ada-2024-project-inspiration\\src\\data\\cleaning_data.py:245: FutureWarning: DataFrame.applymap has been deprecated. Use DataFrame.map instead.\n",
      "  df_cleaned = df_cleaned.applymap(lambda x: x.encode('utf-8', 'ignore').decode('utf-8') if isinstance(x, str) else x)\n"
     ]
    },
    {
     "name": "stdout",
     "output_type": "stream",
     "text": [
      "Cleaned data saved to data/preprocess_data/clean_dataset.csv\n"
     ]
    }
   ],
   "source": [
    "movie_path = 'data/raw_data/movie.metadata.tsv'\n",
    "character_path = 'data/raw_data/character.metadata.tsv'\n",
    "ethnicity_mapping_path = 'data/raw_data/fb_wiki_mapping.tsv'\n",
    "df = cleandata.main(movie_path,character_path,ethnicity_mapping_path)"
   ]
  },
  {
   "cell_type": "code",
   "execution_count": 14,
   "metadata": {},
   "outputs": [
    {
     "name": "stdout",
     "output_type": "stream",
     "text": [
      "Series([], Name: count, dtype: int64)\n"
     ]
    }
   ],
   "source": [
    "actors_df = diversity_calc.load_df('data/processed_data/clean_dataset.csv')\n",
    "actors_diversity = diversity_calc.ethnic_groups(actors_df)\n",
    "diversity_calc.check_nan_Ethnicity(actors_diversity)\n",
    "diversity = diversity_calc.naive_diversity(actors_diversity)\n",
    "diversity = diversity_calc.ethnic_entropy(actors_df,diversity)\n",
    "actors_df = diversity_calc.merge_on_movies(actors_df,diversity)\n",
    "actors_df = actors_df[actors_df['actor_number'] != 1]\n",
    "actors_df = actors_df.drop(columns='Actor_ethnicity').drop_duplicates(subset='Wikipedia_movie_ID')\n",
    "actors_df.to_csv(\"data/processed_data/clean_div_dataset.csv\", index=False, encoding='utf-8-sig')"
   ]
  }
 ],
 "metadata": {
  "kernelspec": {
   "display_name": "ada",
   "language": "python",
   "name": "python3"
  },
  "language_info": {
   "codemirror_mode": {
    "name": "ipython",
    "version": 3
   },
   "file_extension": ".py",
   "mimetype": "text/x-python",
   "name": "python",
   "nbconvert_exporter": "python",
   "pygments_lexer": "ipython3",
   "version": "3.11.9"
  }
 },
 "nbformat": 4,
 "nbformat_minor": 2
}
