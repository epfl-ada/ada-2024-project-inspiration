{
 "cells": [
  {
   "cell_type": "markdown",
   "metadata": {},
   "source": [
    "# THE SUCCESS OF INCLUSIVE CINEMA"
   ]
  },
  {
   "cell_type": "markdown",
   "metadata": {},
   "source": [
    "## Table of contents\n",
    "1. <a href=\"#introduction\">Introduction</a>\n",
    "2. <a href=\"#i-get-our-hand-dirty-les-clean-it-up\">I) Get our hand dirty! Le's clean it up!</a>\n",
    "3. <a href=\"#ii-how-to-define-success\">II) How to define success?</a>\n",
    "    - <a href=\"#1-lets-add-more-data\">1) Let's add more data</a>\n",
    "    - <a href=\"#2-merge-to-success\">2) Merge to success</a>\n",
    "    - <a href=\"#3-the-success-score\">3) The success score</a>\n",
    "4. <a href=\"#iii-how-to-define-diversity\">III) How to define diversity?</a>\n",
    "    - <a href=\"#1-treating-the-ethnicities\">1) Treating the ethnicities</a>\n",
    "    - <a href=\"#2-defining-diversity\">2) Defining diversity</a>\n",
    "    - <a href=\"#3-further-comments\">3) Further comments</a>\n",
    "5. <a href=\"#iv-lets-explore-the-data\">IV) Let's explore the data</a>\n",
    "    - <a href=\"#1-diversity-on-overall-success\">1) Diversity on overall success</a>\n",
    "        - <a href=\"#a-is-diversity-higher-in-successful-movies-compared-to-less-successful-movies\">a) Is diversity higher in successful movies compared to less successful movies?</a>\n",
    "        - <a href=\"#b-is-the-difference-significant\">b) Is the difference significant?</a>\n",
    "6. <a href=\"#v-lets-dig-in\">V) Let's dig in</a>\n",
    "    - <a href=\"#1-box-office-revenue\">1) Box office revenue</a>\n",
    "    - <a href=\"#2-user-ratings\">2) User ratings</a>\n",
    "    - <a href=\"#3-award-nominations\">3) Award nominations</a>\n",
    "7. <a href=\"#vi-conclusion-the-cruel-truth\">VI) Conclusion: the cruel truth</a>"
   ]
  },
  {
   "cell_type": "markdown",
   "metadata": {},
   "source": [
    "## **Introduction**"
   ]
  },
  {
   "cell_type": "code",
   "execution_count": 1,
   "metadata": {},
   "outputs": [],
   "source": [
    "# Some basic imports\n",
    "import os\n",
    "import pandas as pd\n",
    "import numpy as np\n",
    "import matplotlib.pyplot as plt\n",
    "import seaborn as sns \n",
    "from statsmodels.stats import diagnostic\n",
    "from scipy import stats\n",
    "import networkx as nx\n",
    "import statsmodels.api as sm\n",
    "import statsmodels.formula.api as smf\n",
    "import plotly.express as px\n",
    "import sys\n",
    "import warnings\n",
    "import ast\n",
    "import re"
   ]
  },
  {
   "cell_type": "code",
   "execution_count": 2,
   "metadata": {},
   "outputs": [],
   "source": [
    "# Import some python modules\n",
    "import src.data.cleaning_data as cleandata\n",
    "import src.data.diversity as diversity_calc\n",
    "import src.data.success as success"
   ]
  },
  {
   "cell_type": "markdown",
   "metadata": {},
   "source": [
    "## **I) Get our hand dirty! Le's clean it up!**"
   ]
  },
  {
   "cell_type": "code",
   "execution_count": 3,
   "metadata": {},
   "outputs": [
    {
     "name": "stdout",
     "output_type": "stream",
     "text": [
      "Cleaned data saved to data/preprocess_data/clean_dataset.csv\n"
     ]
    },
    {
     "data": {
      "text/html": [
       "<div>\n",
       "<style scoped>\n",
       "    .dataframe tbody tr th:only-of-type {\n",
       "        vertical-align: middle;\n",
       "    }\n",
       "\n",
       "    .dataframe tbody tr th {\n",
       "        vertical-align: top;\n",
       "    }\n",
       "\n",
       "    .dataframe thead th {\n",
       "        text-align: right;\n",
       "    }\n",
       "</style>\n",
       "<table border=\"1\" class=\"dataframe\">\n",
       "  <thead>\n",
       "    <tr style=\"text-align: right;\">\n",
       "      <th></th>\n",
       "      <th>Wikipedia_movie_ID</th>\n",
       "      <th>Movie_release_date</th>\n",
       "      <th>Actor_ethnicity</th>\n",
       "      <th>Movie_name</th>\n",
       "      <th>Movie_runtime</th>\n",
       "      <th>Movie_languages</th>\n",
       "      <th>Movie_countries</th>\n",
       "    </tr>\n",
       "  </thead>\n",
       "  <tbody>\n",
       "    <tr>\n",
       "      <th>10</th>\n",
       "      <td>3196793</td>\n",
       "      <td>2000</td>\n",
       "      <td>African Americans</td>\n",
       "      <td>Getting Away with Murder: The JonBenét Ramsey ...</td>\n",
       "      <td>95.0</td>\n",
       "      <td>English Language</td>\n",
       "      <td>United States of America</td>\n",
       "    </tr>\n",
       "    <tr>\n",
       "      <th>57</th>\n",
       "      <td>18768079</td>\n",
       "      <td>1938</td>\n",
       "      <td>Jewish people</td>\n",
       "      <td>Fast Company</td>\n",
       "      <td>75.0</td>\n",
       "      <td>English Language</td>\n",
       "      <td>United States of America</td>\n",
       "    </tr>\n",
       "    <tr>\n",
       "      <th>59</th>\n",
       "      <td>612710</td>\n",
       "      <td>1999</td>\n",
       "      <td>Italians</td>\n",
       "      <td>New Rose Hotel</td>\n",
       "      <td>92.0</td>\n",
       "      <td>English Language</td>\n",
       "      <td>United States of America</td>\n",
       "    </tr>\n",
       "    <tr>\n",
       "      <th>60</th>\n",
       "      <td>612710</td>\n",
       "      <td>1999</td>\n",
       "      <td>German Americans</td>\n",
       "      <td>New Rose Hotel</td>\n",
       "      <td>92.0</td>\n",
       "      <td>English Language</td>\n",
       "      <td>United States of America</td>\n",
       "    </tr>\n",
       "    <tr>\n",
       "      <th>83</th>\n",
       "      <td>156558</td>\n",
       "      <td>2001</td>\n",
       "      <td>African Americans</td>\n",
       "      <td>Baby Boy</td>\n",
       "      <td>123.0</td>\n",
       "      <td>English Language</td>\n",
       "      <td>United States of America</td>\n",
       "    </tr>\n",
       "  </tbody>\n",
       "</table>\n",
       "</div>"
      ],
      "text/plain": [
       "    Wikipedia_movie_ID Movie_release_date    Actor_ethnicity  \\\n",
       "10             3196793               2000  African Americans   \n",
       "57            18768079               1938      Jewish people   \n",
       "59              612710               1999           Italians   \n",
       "60              612710               1999   German Americans   \n",
       "83              156558               2001  African Americans   \n",
       "\n",
       "                                           Movie_name  Movie_runtime  \\\n",
       "10  Getting Away with Murder: The JonBenét Ramsey ...           95.0   \n",
       "57                                       Fast Company           75.0   \n",
       "59                                     New Rose Hotel           92.0   \n",
       "60                                     New Rose Hotel           92.0   \n",
       "83                                           Baby Boy          123.0   \n",
       "\n",
       "     Movie_languages           Movie_countries  \n",
       "10  English Language  United States of America  \n",
       "57  English Language  United States of America  \n",
       "59  English Language  United States of America  \n",
       "60  English Language  United States of America  \n",
       "83  English Language  United States of America  "
      ]
     },
     "metadata": {},
     "output_type": "display_data"
    }
   ],
   "source": [
    "movie_path = 'data/raw_data/movie.metadata.tsv'\n",
    "character_path = 'data/raw_data/character.metadata.tsv'\n",
    "ethnicity_mapping_path = 'data/raw_data/fb_wiki_mapping.tsv'\n",
    "movie_df, box_office_df = cleandata.main(movie_path,character_path,ethnicity_mapping_path) # box_office_df will be used in our definition of success\n",
    "\n",
    "# Preview the cleaned data\n",
    "if  movie_df is not None:\n",
    "    display(movie_df.head())"
   ]
  },
  {
   "cell_type": "markdown",
   "metadata": {},
   "source": [
    "## **II) How to define success?**\n",
    "### **1) Let's add more data**"
   ]
  },
  {
   "cell_type": "markdown",
   "metadata": {},
   "source": [
    "We define a successful film based on three key criteria: high box office revenue or high user ratings, or award nominations. Let's add them to our dataset."
   ]
  },
  {
   "cell_type": "code",
   "execution_count": 4,
   "metadata": {},
   "outputs": [
    {
     "data": {
      "text/html": [
       "<div>\n",
       "<style scoped>\n",
       "    .dataframe tbody tr th:only-of-type {\n",
       "        vertical-align: middle;\n",
       "    }\n",
       "\n",
       "    .dataframe tbody tr th {\n",
       "        vertical-align: top;\n",
       "    }\n",
       "\n",
       "    .dataframe thead th {\n",
       "        text-align: right;\n",
       "    }\n",
       "</style>\n",
       "<table border=\"1\" class=\"dataframe\">\n",
       "  <thead>\n",
       "    <tr style=\"text-align: right;\">\n",
       "      <th></th>\n",
       "      <th>Movie_name</th>\n",
       "      <th>Movie_release_date</th>\n",
       "      <th>Ratings</th>\n",
       "      <th>Wikipedia_movie_ID</th>\n",
       "      <th>Movie_box_office_revenue</th>\n",
       "      <th>Nomination</th>\n",
       "    </tr>\n",
       "  </thead>\n",
       "  <tbody>\n",
       "    <tr>\n",
       "      <th>0</th>\n",
       "      <td>!Women Art Revolution</td>\n",
       "      <td>2010</td>\n",
       "      <td>6.9</td>\n",
       "      <td>29988427.0</td>\n",
       "      <td>NaN</td>\n",
       "      <td>False</td>\n",
       "    </tr>\n",
       "    <tr>\n",
       "      <th>1</th>\n",
       "      <td>$</td>\n",
       "      <td>1971</td>\n",
       "      <td>6.3</td>\n",
       "      <td>4213160.0</td>\n",
       "      <td>NaN</td>\n",
       "      <td>False</td>\n",
       "    </tr>\n",
       "    <tr>\n",
       "      <th>3</th>\n",
       "      <td>$9.99</td>\n",
       "      <td>2008</td>\n",
       "      <td>6.7</td>\n",
       "      <td>20624798.0</td>\n",
       "      <td>NaN</td>\n",
       "      <td>False</td>\n",
       "    </tr>\n",
       "    <tr>\n",
       "      <th>4</th>\n",
       "      <td>'68</td>\n",
       "      <td>1988</td>\n",
       "      <td>5.8</td>\n",
       "      <td>2250713.0</td>\n",
       "      <td>NaN</td>\n",
       "      <td>False</td>\n",
       "    </tr>\n",
       "    <tr>\n",
       "      <th>5</th>\n",
       "      <td>'Neath the Arizona Skies</td>\n",
       "      <td>1934</td>\n",
       "      <td>5.0</td>\n",
       "      <td>3610422.0</td>\n",
       "      <td>NaN</td>\n",
       "      <td>False</td>\n",
       "    </tr>\n",
       "    <tr>\n",
       "      <th>...</th>\n",
       "      <td>...</td>\n",
       "      <td>...</td>\n",
       "      <td>...</td>\n",
       "      <td>...</td>\n",
       "      <td>...</td>\n",
       "      <td>...</td>\n",
       "    </tr>\n",
       "    <tr>\n",
       "      <th>42927</th>\n",
       "      <td>È l'amor che mi rovina</td>\n",
       "      <td>1951</td>\n",
       "      <td>5.0</td>\n",
       "      <td>23687589.0</td>\n",
       "      <td>NaN</td>\n",
       "      <td>False</td>\n",
       "    </tr>\n",
       "    <tr>\n",
       "      <th>42928</th>\n",
       "      <td>Échangistes</td>\n",
       "      <td>2007</td>\n",
       "      <td>4.1</td>\n",
       "      <td>27932113.0</td>\n",
       "      <td>NaN</td>\n",
       "      <td>False</td>\n",
       "    </tr>\n",
       "    <tr>\n",
       "      <th>42929</th>\n",
       "      <td>Édes Anna</td>\n",
       "      <td>1958</td>\n",
       "      <td>7.4</td>\n",
       "      <td>21534981.0</td>\n",
       "      <td>NaN</td>\n",
       "      <td>False</td>\n",
       "    </tr>\n",
       "    <tr>\n",
       "      <th>42930</th>\n",
       "      <td>Élisa</td>\n",
       "      <td>1995</td>\n",
       "      <td>6.6</td>\n",
       "      <td>1719500.0</td>\n",
       "      <td>NaN</td>\n",
       "      <td>False</td>\n",
       "    </tr>\n",
       "    <tr>\n",
       "      <th>42933</th>\n",
       "      <td>Ödipussi</td>\n",
       "      <td>1988</td>\n",
       "      <td>7.4</td>\n",
       "      <td>13983035.0</td>\n",
       "      <td>NaN</td>\n",
       "      <td>False</td>\n",
       "    </tr>\n",
       "  </tbody>\n",
       "</table>\n",
       "<p>40548 rows × 6 columns</p>\n",
       "</div>"
      ],
      "text/plain": [
       "                     Movie_name Movie_release_date  Ratings  \\\n",
       "0         !Women Art Revolution               2010      6.9   \n",
       "1                             $               1971      6.3   \n",
       "3                         $9.99               2008      6.7   \n",
       "4                           '68               1988      5.8   \n",
       "5      'Neath the Arizona Skies               1934      5.0   \n",
       "...                         ...                ...      ...   \n",
       "42927    È l'amor che mi rovina               1951      5.0   \n",
       "42928               Échangistes               2007      4.1   \n",
       "42929                 Édes Anna               1958      7.4   \n",
       "42930                     Élisa               1995      6.6   \n",
       "42933                  Ödipussi               1988      7.4   \n",
       "\n",
       "       Wikipedia_movie_ID  Movie_box_office_revenue Nomination  \n",
       "0              29988427.0                       NaN      False  \n",
       "1               4213160.0                       NaN      False  \n",
       "3              20624798.0                       NaN      False  \n",
       "4               2250713.0                       NaN      False  \n",
       "5               3610422.0                       NaN      False  \n",
       "...                   ...                       ...        ...  \n",
       "42927          23687589.0                       NaN      False  \n",
       "42928          27932113.0                       NaN      False  \n",
       "42929          21534981.0                       NaN      False  \n",
       "42930           1719500.0                       NaN      False  \n",
       "42933          13983035.0                       NaN      False  \n",
       "\n",
       "[40548 rows x 6 columns]"
      ]
     },
     "metadata": {},
     "output_type": "display_data"
    }
   ],
   "source": [
    "# Import the datasets we need for our definition of success\n",
    "ratings_df = success.ratings_setup()\n",
    "awards_df = success.nominations_setup()\n"
   ]
  },
  {
   "cell_type": "markdown",
   "metadata": {},
   "source": [
    "### **2) Merge to success**"
   ]
  },
  {
   "cell_type": "code",
   "execution_count": null,
   "metadata": {},
   "outputs": [],
   "source": [
    "# Merge the datasets to get our success definition\n",
    "success_df = success.merge_success_df(box_office_df, awards_df, ratings_df)\n",
    "success_df = success.drop_NaN_on_success(success_df)\n",
    "display(success_df)"
   ]
  },
  {
   "cell_type": "markdown",
   "metadata": {},
   "source": [
    "### **3) The success score**\n",
    "To ensure a representative sample of successful films, we establish specific thresholds for each criterion:\n",
    "#### **a) High Box Office Revenue**\n",
    "A film is considered successful in terms of box office revenue if it exceeds **the threshold value of 38,119,483.0 (derived from the third quartile of the revenue distribution)**(*to modify in consequence*). Films below this value are not categorized as successful by this measure.\n",
    "#### **b) High User Ratings**\n",
    "Films with an average user **rating of 7/10 or higher are deemed highly rated** (*to modify in consequence*). This threshold, also based on the third quartile of user ratings, ensures that only the top-rated films are included.\n",
    "#### **c) Award Nominations**\n",
    "Rather than limiting our selection to award winners, which could be too restrictive, we include all films nominated for Oscars and Golden Globes, among other prominent awards.\n",
    "These criteria provide a comprehensive framework to evaluate a film's success across financial, audience, and critical dimensions.\n"
   ]
  },
  {
   "cell_type": "code",
   "execution_count": 5,
   "metadata": {},
   "outputs": [
    {
     "name": "stdout",
     "output_type": "stream",
     "text": [
      "Proportion of success movies: 24.837229949689256\n",
      "DataFrame saved successfully.\n"
     ]
    },
    {
     "data": {
      "text/html": [
       "<div>\n",
       "<style scoped>\n",
       "    .dataframe tbody tr th:only-of-type {\n",
       "        vertical-align: middle;\n",
       "    }\n",
       "\n",
       "    .dataframe tbody tr th {\n",
       "        vertical-align: top;\n",
       "    }\n",
       "\n",
       "    .dataframe thead th {\n",
       "        text-align: right;\n",
       "    }\n",
       "</style>\n",
       "<table border=\"1\" class=\"dataframe\">\n",
       "  <thead>\n",
       "    <tr style=\"text-align: right;\">\n",
       "      <th></th>\n",
       "      <th>Movie_name</th>\n",
       "      <th>Movie_release_date</th>\n",
       "      <th>Ratings</th>\n",
       "      <th>Wikipedia_movie_ID</th>\n",
       "      <th>Movie_box_office_revenue</th>\n",
       "      <th>Nomination</th>\n",
       "      <th>Success</th>\n",
       "    </tr>\n",
       "  </thead>\n",
       "  <tbody>\n",
       "    <tr>\n",
       "      <th>0</th>\n",
       "      <td>!Women Art Revolution</td>\n",
       "      <td>2010</td>\n",
       "      <td>6.9</td>\n",
       "      <td>29988427.0</td>\n",
       "      <td>NaN</td>\n",
       "      <td>False</td>\n",
       "      <td>0</td>\n",
       "    </tr>\n",
       "    <tr>\n",
       "      <th>1</th>\n",
       "      <td>$</td>\n",
       "      <td>1971</td>\n",
       "      <td>6.3</td>\n",
       "      <td>4213160.0</td>\n",
       "      <td>NaN</td>\n",
       "      <td>False</td>\n",
       "      <td>0</td>\n",
       "    </tr>\n",
       "    <tr>\n",
       "      <th>3</th>\n",
       "      <td>$9.99</td>\n",
       "      <td>2008</td>\n",
       "      <td>6.7</td>\n",
       "      <td>20624798.0</td>\n",
       "      <td>NaN</td>\n",
       "      <td>False</td>\n",
       "      <td>0</td>\n",
       "    </tr>\n",
       "    <tr>\n",
       "      <th>4</th>\n",
       "      <td>'68</td>\n",
       "      <td>1988</td>\n",
       "      <td>5.8</td>\n",
       "      <td>2250713.0</td>\n",
       "      <td>NaN</td>\n",
       "      <td>False</td>\n",
       "      <td>0</td>\n",
       "    </tr>\n",
       "    <tr>\n",
       "      <th>5</th>\n",
       "      <td>'Neath the Arizona Skies</td>\n",
       "      <td>1934</td>\n",
       "      <td>5.0</td>\n",
       "      <td>3610422.0</td>\n",
       "      <td>NaN</td>\n",
       "      <td>False</td>\n",
       "      <td>0</td>\n",
       "    </tr>\n",
       "    <tr>\n",
       "      <th>...</th>\n",
       "      <td>...</td>\n",
       "      <td>...</td>\n",
       "      <td>...</td>\n",
       "      <td>...</td>\n",
       "      <td>...</td>\n",
       "      <td>...</td>\n",
       "      <td>...</td>\n",
       "    </tr>\n",
       "    <tr>\n",
       "      <th>42927</th>\n",
       "      <td>È l'amor che mi rovina</td>\n",
       "      <td>1951</td>\n",
       "      <td>5.0</td>\n",
       "      <td>23687589.0</td>\n",
       "      <td>NaN</td>\n",
       "      <td>False</td>\n",
       "      <td>0</td>\n",
       "    </tr>\n",
       "    <tr>\n",
       "      <th>42928</th>\n",
       "      <td>Échangistes</td>\n",
       "      <td>2007</td>\n",
       "      <td>4.1</td>\n",
       "      <td>27932113.0</td>\n",
       "      <td>NaN</td>\n",
       "      <td>False</td>\n",
       "      <td>0</td>\n",
       "    </tr>\n",
       "    <tr>\n",
       "      <th>42929</th>\n",
       "      <td>Édes Anna</td>\n",
       "      <td>1958</td>\n",
       "      <td>7.4</td>\n",
       "      <td>21534981.0</td>\n",
       "      <td>NaN</td>\n",
       "      <td>False</td>\n",
       "      <td>1</td>\n",
       "    </tr>\n",
       "    <tr>\n",
       "      <th>42930</th>\n",
       "      <td>Élisa</td>\n",
       "      <td>1995</td>\n",
       "      <td>6.6</td>\n",
       "      <td>1719500.0</td>\n",
       "      <td>NaN</td>\n",
       "      <td>False</td>\n",
       "      <td>0</td>\n",
       "    </tr>\n",
       "    <tr>\n",
       "      <th>42933</th>\n",
       "      <td>Ödipussi</td>\n",
       "      <td>1988</td>\n",
       "      <td>7.4</td>\n",
       "      <td>13983035.0</td>\n",
       "      <td>NaN</td>\n",
       "      <td>False</td>\n",
       "      <td>1</td>\n",
       "    </tr>\n",
       "  </tbody>\n",
       "</table>\n",
       "<p>40548 rows × 7 columns</p>\n",
       "</div>"
      ],
      "text/plain": [
       "                     Movie_name Movie_release_date  Ratings  \\\n",
       "0         !Women Art Revolution               2010      6.9   \n",
       "1                             $               1971      6.3   \n",
       "3                         $9.99               2008      6.7   \n",
       "4                           '68               1988      5.8   \n",
       "5      'Neath the Arizona Skies               1934      5.0   \n",
       "...                         ...                ...      ...   \n",
       "42927    È l'amor che mi rovina               1951      5.0   \n",
       "42928               Échangistes               2007      4.1   \n",
       "42929                 Édes Anna               1958      7.4   \n",
       "42930                     Élisa               1995      6.6   \n",
       "42933                  Ödipussi               1988      7.4   \n",
       "\n",
       "       Wikipedia_movie_ID  Movie_box_office_revenue Nomination  Success  \n",
       "0              29988427.0                       NaN      False        0  \n",
       "1               4213160.0                       NaN      False        0  \n",
       "3              20624798.0                       NaN      False        0  \n",
       "4               2250713.0                       NaN      False        0  \n",
       "5               3610422.0                       NaN      False        0  \n",
       "...                   ...                       ...        ...      ...  \n",
       "42927          23687589.0                       NaN      False        0  \n",
       "42928          27932113.0                       NaN      False        0  \n",
       "42929          21534981.0                       NaN      False        1  \n",
       "42930           1719500.0                       NaN      False        0  \n",
       "42933          13983035.0                       NaN      False        1  \n",
       "\n",
       "[40548 rows x 7 columns]"
      ]
     },
     "metadata": {},
     "output_type": "display_data"
    }
   ],
   "source": [
    "# Define the success threshold\n",
    "# Ratings and box office of success movies are above this quantile : \n",
    "ratings_quantile = 0.75\n",
    "box_office_quantile = 0.75\n",
    "success_df = success.define_success(success_df, ratings_quantile, box_office_quantile)\n",
    "success.save_success_df(success_df, \"success_movies\")\n",
    "display(success_df)"
   ]
  },
  {
   "cell_type": "markdown",
   "metadata": {},
   "source": [
    "## **III) How to define diversity?**\n",
    "### **1) Treating the ethnicities**\n",
    "When we first have a look at the ethnicities, we can see that there are a total of more than 350 different ethnicities, some of them still very similar (e.g. 'Austrian American' and 'Austrian Canadian' etc). We want to first simplify this ethnicity criterion before defining diversity. If we didn’t sort the ethnicities, a film with a cast of a German, Austrian and Swiss would be considered very diverse. This is however not what we want to consider diverse. It is for this reason that the ethnicities were first grouped into larger ethnic groups. This was done with the help of a LLM, with checks and corrections done by hand. Doing this by hand was still possible thanks to the manageable number of ethnicities and the LLM doing the most time-consuming part.\n"
   ]
  },
  {
   "cell_type": "code",
   "execution_count": 6,
   "metadata": {},
   "outputs": [],
   "source": [
    "actors_df = diversity_calc.load_df('data/processed_data/clean_dataset.csv')\n",
    "actors_diversity = diversity_calc.ethnic_groups(actors_df)\n",
    "diversity_calc.check_nan_Ethnicity(actors_diversity)\n",
    "diversity = diversity_calc.naive_diversity(actors_diversity)\n",
    "diversity = diversity_calc.ethnic_entropy(actors_df,diversity)\n",
    "actors_df = diversity_calc.merge_on_movies(actors_df,diversity)\n",
    "actors_df = actors_df[actors_df['actor_number'] != 1]\n",
    "actors_df = actors_df.drop(columns='Actor_ethnicity').drop_duplicates(subset='Wikipedia_movie_ID')\n",
    "actors_df.to_csv(\"data/processed_data/clean_div_dataset.csv\", index=False, encoding='utf-8-sig')"
   ]
  },
  {
   "cell_type": "markdown",
   "metadata": {},
   "source": [
    "### **2) Defining diversity**\n",
    "Once the ethnicities have been sorted into larger groups (16), we can start defining diversity. The focus being on the diversity of the cast and not the representation of minority groups, country of production of the movie doesn’t have to be taken into account. The first and easiest way to calculate diversity would be dividing the number of ethnicities over the number of actors. However, for a film with 9 actors and 3 ethnicities, this definition would give the same diversity score for a distribution (3,3,3) as for (1,1,7). Calculating an entropy could therefore complete the previous definition.\n",
    "The basic entropy formula is: $$ S = -\\sum_{i=1}^{n} p_i \\log(p_i) \\tag{1}$$\n",
    "Where pi is the fraction an ethnicity represents in the movie \n",
    "\n",
    "\n",
    "One modification was made. Indeed, if we have all actors from 1 ethnicity, we get an entropy of 0, but it is preferable to avoid the value of 0 since we will multiply the entropy with the other definition. We therefore have added 1 to the entropy. This entropy penalises the movies with smaller numbers of actors, which is why we have multiplied entropy with the first definition to establish our final diversity coefficient"
   ]
  },
  {
   "cell_type": "markdown",
   "metadata": {},
   "source": [
    "### **3) Further comments**\n",
    "Firstly, the data set gives us many movies with different numbers of actors and all the movies with 1 actor cannot be considered for a diversity calculation. If we wanted to further complete the analysis we could consider whether an actor is from a minority group.\n",
    "Secondly, the diversity coefficient is based on the ethnic groups established previously. Changing the characteristics of the ethnic groups, such as their size, their number or their content will change the diversity factor.\n"
   ]
  },
  {
   "cell_type": "markdown",
   "metadata": {},
   "source": [
    "## **IV) Let's explore the data**\n",
    "### **1) Diversity on overall success**\n",
    "#### **a) Is diversity higher in successful movies compared to less successful movies ?**"
   ]
  },
  {
   "cell_type": "markdown",
   "metadata": {},
   "source": [
    "#### **b) Is the difference significant?**\n",
    "**T-test**"
   ]
  },
  {
   "cell_type": "markdown",
   "metadata": {},
   "source": [
    "**Test of correlation**\n",
    "\n",
    "Spearman correlation coefficient"
   ]
  },
  {
   "cell_type": "markdown",
   "metadata": {},
   "source": [
    "**Propensity score matching**"
   ]
  },
  {
   "cell_type": "markdown",
   "metadata": {},
   "source": [
    "## **V) Let's dig in**\n",
    "Explore the data per success criterion\n",
    "\n",
    "### **1) Box office revenue**\n",
    "**T-test**\n"
   ]
  },
  {
   "cell_type": "markdown",
   "metadata": {},
   "source": [
    "**Test of correlation**\n",
    "pearson correlation coefficient"
   ]
  },
  {
   "cell_type": "markdown",
   "metadata": {},
   "source": [
    "**Propensity score matching**"
   ]
  },
  {
   "cell_type": "markdown",
   "metadata": {},
   "source": [
    "### **2) User ratings**\n",
    "**T-test**"
   ]
  },
  {
   "cell_type": "markdown",
   "metadata": {},
   "source": [
    "**Test of correlation**\n",
    "spearman correlation coefficient"
   ]
  },
  {
   "cell_type": "markdown",
   "metadata": {},
   "source": [
    "**Propensity score matching**"
   ]
  },
  {
   "cell_type": "markdown",
   "metadata": {},
   "source": [
    "### **3) Award nominations**\n",
    "**T-test**"
   ]
  },
  {
   "cell_type": "markdown",
   "metadata": {},
   "source": [
    "**Test of correlation**\n",
    "Pearson correlation coefficient"
   ]
  },
  {
   "cell_type": "markdown",
   "metadata": {},
   "source": [
    "**Propensity score matching**"
   ]
  },
  {
   "cell_type": "markdown",
   "metadata": {},
   "source": [
    "## **VI) Conclusion: the cruel truth**"
   ]
  },
  {
   "cell_type": "markdown",
   "metadata": {},
   "source": []
  }
 ],
 "metadata": {
  "kernelspec": {
   "display_name": "ada2024",
   "language": "python",
   "name": "python3"
  },
  "language_info": {
   "codemirror_mode": {
    "name": "ipython",
    "version": 3
   },
   "file_extension": ".py",
   "mimetype": "text/x-python",
   "name": "python",
   "nbconvert_exporter": "python",
   "pygments_lexer": "ipython3",
   "version": "3.13.0"
  }
 },
 "nbformat": 4,
 "nbformat_minor": 2
}
