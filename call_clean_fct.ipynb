{
 "cells": [
  {
   "cell_type": "code",
   "execution_count": null,
   "metadata": {},
   "outputs": [],
   "source": [
    "# Import sys to modify the Python path\n",
    "import sys\n",
    "\n",
    "# Add the folder containing the module to the Python path\n",
    "sys.path.insert(1, r'src\\data')\n",
    "\n",
    "# Import the main function from the module\n",
    "import cleaning_data\n",
    "\n",
    "character_metadata_path = 'data/raw_data/character.metadata.tsv'\n",
    "movie_metadata_path = 'data/raw_data/movie.metadata.tsv'\n",
    "ethnicity_map_path = 'data/raw_data/fb_wiki_mapping.tsv'\n",
    "\n",
    "# Call the main function\n",
    "final_cleaned_data = cleaning_data.main(movie_metadata_path, character_metadata_path, ethnicity_map_path)\n",
    "\n",
    "# Preview the cleaned data\n",
    "if final_cleaned_data is not None:\n",
    "    display(final_cleaned_data)"
   ]
  },
  {
   "cell_type": "code",
   "execution_count": null,
   "metadata": {},
   "outputs": [],
   "source": [
    "display(final_cleaned_data)"
   ]
  },
  {
   "cell_type": "code",
   "execution_count": 1,
   "metadata": {},
   "outputs": [
    {
     "name": "stdout",
     "output_type": "stream",
     "text": [
      "An error occurred while creating boxO: ('Movie_name', 'Movie_release_date', 'Movie_box_office_revenue')\n",
      "Error: Missing expected columns in nominations data: \"Missing column 'Movie_name' in one of the dataframes.\"\n"
     ]
    }
   ],
   "source": [
    "# Import sys to modify the Python path\n",
    "import sys\n",
    "import pandas as pd\n",
    "\n",
    "# Add the folder containing the module to the Python path\n",
    "sys.path.insert(1, r'src\\data')\n",
    "\n",
    "# Import the main function from the module\n",
    "import success\n",
    "\n",
    "ratings_path = 'data/raw_data/title.ratings.tsv'\n",
    "movie_names_path = 'data/raw_data/title.basics.tsv'\n",
    "\n",
    "df_ratings = success.load_df(ratings_path)\n",
    "df_movie_names = pd.read_csv(movie_names_path, sep='\\t', low_memory=False)\n",
    "ratings = success.ratings_setup(df_ratings, df_movie_names)\n",
    "\n",
    "df_box_office = success.load_df('data/raw_data/movie.metadata.tsv')\n",
    "box_office = success.box_office_setup(df_box_office)\n",
    "\n",
    "oscar = success.load_df('data/processed_data/oscars_nominees.csv')\n",
    "goldenG = success.load_df('data/processed_data/golden_globes_nominees.csv')\n",
    "filmfare = success.load_df('data/processed_data/filmfare_nominees.csv')\n",
    "goldenP = success.load_df('data/processed_data/golden_palms_nominees.csv')\n",
    "cesars = success.load_df('data/processed_data/cesars_nominees.csv')\n",
    "awards = success.nominations_setup(oscar, goldenG,filmfare, goldenP,cesars)\n",
    "\n",
    "\n"
   ]
  },
  {
   "cell_type": "code",
   "execution_count": null,
   "metadata": {},
   "outputs": [],
   "source": []
  }
 ],
 "metadata": {
  "kernelspec": {
   "display_name": "ada2024",
   "language": "python",
   "name": "python3"
  },
  "language_info": {
   "codemirror_mode": {
    "name": "ipython",
    "version": 3
   },
   "file_extension": ".py",
   "mimetype": "text/x-python",
   "name": "python",
   "nbconvert_exporter": "python",
   "pygments_lexer": "ipython3",
   "version": "3.13.0"
  }
 },
 "nbformat": 4,
 "nbformat_minor": 2
}
