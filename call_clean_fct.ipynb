{
 "cells": [
  {
   "cell_type": "code",
   "execution_count": null,
   "metadata": {},
   "outputs": [
    {
     "name": "stdout",
     "output_type": "stream",
     "text": [
      "Loading movie and character data...\n",
      "DataFrame loaded successfully.\n",
      "DataFrame loaded successfully.\n",
      "Selecting and merging columns of interest...\n",
      "Columns name changed successfully.\n",
      "An error occurred while selecting and merging dfs: ('Wikipedia_movie_ID', 'Movie_name', 'Movie_release_date', 'Movie_runtime', 'Movie_languages', 'Movie_countries')\n",
      "Dropping rows with NaN values...\n",
      "An error occurred while dropping NaN rows: 'NoneType' object has no attribute 'dropna'\n",
      "Rewriting release dates...\n",
      "An error occurred while modifying the release date column: 'NoneType' object is not subscriptable\n",
      "Replacing ethnicity codes with labels...\n",
      "An unexpected error occurred: 'NoneType' object is not subscriptable\n",
      "Replacing the longest ethnicity with 'Eurasian'...\n",
      "An error occurred: 'NoneType' object has no attribute 'columns'\n",
      "Cleaning country and language columns...\n",
      "An error occurred: 'NoneType' object is not subscriptable\n",
      "Removing duplicate rows...\n",
      "An error occurred while removing duplicates: 'NoneType' object has no attribute 'drop_duplicates'\n",
      "Data processing completed successfully.\n"
     ]
    }
   ],
   "source": [
    "# Import sys to modify the Python path\n",
    "import sys\n",
    "import os\n",
    "\n",
    "# Add the folder containing the module to the Python path\n",
    "sys.path.insert(1, r'src\\data')\n",
    "# Import the main function from the module\n",
    "from cleaning_data import main\n",
    "\n",
    "character_metadata_path = 'data/raw_data/character.metadata.tsv'\n",
    "movie_metadata_path = 'data/raw_data/movie.metadata.tsv'\n",
    "ethnicity_map_path = 'data/raw_data/fb_wiki_mapping.tsv'\n",
    "\n",
    "# Call the main function\n",
    "final_cleaned_data = main(movie_metadata_path, character_metadata_path, ethnicity_map_path)\n",
    "\n",
    "# Preview the cleaned data\n",
    "if final_cleaned_data is not None:\n",
    "    print(final_cleaned_data.head())\n",
    "\n"
   ]
  },
  {
   "cell_type": "code",
   "execution_count": null,
   "metadata": {},
   "outputs": [],
   "source": []
  }
 ],
 "metadata": {
  "kernelspec": {
   "display_name": "ADA",
   "language": "python",
   "name": "python3"
  },
  "language_info": {
   "codemirror_mode": {
    "name": "ipython",
    "version": 3
   },
   "file_extension": ".py",
   "mimetype": "text/x-python",
   "name": "python",
   "nbconvert_exporter": "python",
   "pygments_lexer": "ipython3",
   "version": "3.9.20"
  }
 },
 "nbformat": 4,
 "nbformat_minor": 2
}
