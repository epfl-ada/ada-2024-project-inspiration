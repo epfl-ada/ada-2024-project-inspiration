{
 "cells": [
  {
   "cell_type": "markdown",
   "metadata": {},
   "source": [
    "Diversity: \n",
    "1. Reorganise ethnicities into a few groups\n",
    "2. Establish the Naive Coefficient\n",
    "3. Add the multiplication by extra coefficient rewarding equal representation"
   ]
  },
  {
   "cell_type": "markdown",
   "metadata": {},
   "source": [
    "A. Start by making the character_df\n",
    "NB: final name should be \"filtered_character\""
   ]
  },
  {
   "cell_type": "code",
   "execution_count": 1,
   "metadata": {},
   "outputs": [],
   "source": [
    "#basic imports\n",
    "import os\n",
    "import pandas as pd\n",
    "import numpy as np\n",
    "import matplotlib.pyplot as plt\n",
    "import warnings\n",
    "import seaborn as sns"
   ]
  },
  {
   "cell_type": "code",
   "execution_count": null,
   "metadata": {},
   "outputs": [
    {
     "name": "stdout",
     "output_type": "stream",
     "text": [
      "the size of the dataframe is:(450668, 13)\n",
      "Index(['975900', '/m/03vyhn', '2001-08-24', 'Akooshay', '1958-08-26', 'F',\n",
      "       '1.62', 'Unnamed: 7', 'Wanda De Jesus', '42', '/m/0bgchxw',\n",
      "       '/m/0bgcj3x', '/m/03wcfv7'],\n",
      "      dtype='object')\n"
     ]
    }
   ],
   "source": [
    "#load the data\n",
    "character_metadata = pd.read_csv('../data/character.metadata.tsv', sep='\\t')\n",
    "\n",
    "# Look through the DataFrames:\n",
    "print(f'the size of the dataframe is:{character_metadata.shape}') #-- (450668, 13)\n",
    "print(character_metadata.columns) #need to rename the columns"
   ]
  },
  {
   "cell_type": "code",
   "execution_count": null,
   "metadata": {},
   "outputs": [],
   "source": []
  }
 ],
 "metadata": {
  "kernelspec": {
   "display_name": "ada",
   "language": "python",
   "name": "python3"
  },
  "language_info": {
   "codemirror_mode": {
    "name": "ipython",
    "version": 3
   },
   "file_extension": ".py",
   "mimetype": "text/x-python",
   "name": "python",
   "nbconvert_exporter": "python",
   "pygments_lexer": "ipython3",
   "version": "3.11.9"
  }
 },
 "nbformat": 4,
 "nbformat_minor": 2
}
