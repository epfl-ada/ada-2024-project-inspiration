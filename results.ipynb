{
 "cells": [
  {
   "cell_type": "markdown",
   "metadata": {},
   "source": [
    "# THE SUCCESS OF INCLUSIVE CINEMA"
   ]
  },
  {
   "cell_type": "markdown",
   "metadata": {},
   "source": [
    "## Table of contents\n",
    "1. <a href=\"#introduction\">Introduction</a>\n",
    "2. <a href=\"#i-get-our-hand-dirty-lets-clean-it-up\">I) Get our hand dirty! Let's clean it up!</a>\n",
    "3. <a href=\"#ii-how-to-define-success\">II) How to define success?</a>\n",
    "    - <a href=\"#1-lets-add-more-data\">1) Let's add more data</a>\n",
    "    - <a href=\"#2-merge-to-success\">2) Merge to success</a>\n",
    "    - <a href=\"#3-the-success-score\">3) The success score</a>\n",
    "4. <a href=\"#iii-how-to-define-diversity\">III) How to define diversity?</a>\n",
    "    - <a href=\"#1-treating-the-ethnicities\">1) Treating the ethnicities</a>\n",
    "    - <a href=\"#2-defining-diversity\">2) Defining diversity</a>\n",
    "    - <a href=\"#3-further-comments\">3) Further comments</a>\n",
    "5. <a href=\"#iv-lets-explore-the-data\">IV) Let's explore the data</a>\n",
    "    - <a href=\"#1-diversity-on-overall-success\">1) Diversity on overall success</a>\n",
    "        - <a href=\"#a-is-diversity-higher-in-successful-movies-compared-to-less-successful-movies\">a) Is diversity higher in successful movies compared to less successful movies?</a>\n",
    "        - <a href=\"#b-is-the-difference-significant\">b) Is the difference significant?</a>\n",
    "6. <a href=\"#v-lets-dig-in\">V) Let's dig in</a>\n",
    "    - <a href=\"#1-box-office-revenue\">1) Box office revenue</a>\n",
    "    - <a href=\"#2-user-ratings\">2) User ratings</a>\n",
    "    - <a href=\"#3-award-nominations\">3) Award nominations</a>\n",
    "7. <a href=\"#vi-conclusion-the-cruel-truth\">VI) Conclusion: the cruel truth</a>"
   ]
  },
  {
   "cell_type": "markdown",
   "metadata": {},
   "source": [
    "## **Introduction**"
   ]
  },
  {
   "cell_type": "code",
   "execution_count": 1,
   "metadata": {},
   "outputs": [],
   "source": [
    "# Some basic imports\n",
    "import os\n",
    "import pandas as pd\n",
    "import numpy as np\n",
    "import matplotlib.pyplot as plt\n",
    "import seaborn as sns \n",
    "from statsmodels.stats import diagnostic\n",
    "from scipy import stats\n",
    "import networkx as nx\n",
    "import statsmodels.api as sm\n",
    "import statsmodels.formula.api as smf\n",
    "import plotly.express as px\n",
    "import sys\n",
    "import warnings\n",
    "import ast\n",
    "import re"
   ]
  },
  {
   "cell_type": "code",
   "execution_count": 2,
   "metadata": {},
   "outputs": [
    {
     "data": {
      "application/vnd.plotly.v1+json": {
       "config": {
        "plotlyServerURL": "https://plot.ly"
       },
       "data": [
        {
         "domain": {
          "x": [
           0,
           1
          ],
          "y": [
           0,
           1
          ]
         },
         "hovertemplate": "<b>%{hovertext}</b><br><br>Actor_ethnicity=%{label}<br>count=%{value}<extra></extra>",
         "hovertext": [
          "Jewish people",
          "African Americans",
          "English people",
          "Indian",
          "Irish Americans",
          "Italian Americans",
          "White Americans",
          "Scottish Americans",
          "Irish people",
          "Italians",
          "French",
          "Swedish Americans",
          "German Americans",
          "American Jews",
          "English Americans",
          "Swedes",
          "Punjabis",
          "Germans",
          "Dutch Americans",
          "Welsh people",
          "Bengali",
          "Mexican Americans",
          "Irish migration to Great Britain",
          "White British",
          "Marathi people",
          "Tamil",
          "Japanese people",
          "Koreans",
          "Hongkongers",
          "Russian Americans",
          "Greek Americans",
          "Spanish Americans",
          "Polish Americans",
          "Hungarian Americans",
          "Chinese Americans",
          "British Americans",
          "Malayali",
          "French Americans",
          "Spaniards",
          "Gujarati people",
          "Mexicans",
          "Kashmiri Pandit",
          "Puerto Ricans",
          "Danish Americans",
          "Dutch",
          "Kayastha",
          "Sindhis",
          "Indian Americans",
          "Cuban Americans",
          "Australians",
          "Cajun",
          "Parsi",
          "Danes",
          "Asian Americans",
          "Russians",
          "Romani people",
          "Slovak Americans",
          "Stateside Puerto Ricans",
          "names of the Greeks",
          "Czech Americans",
          "Cherokee",
          "Ashkenazi Jews",
          "Kiwi",
          "Telugu people",
          "British Indian",
          "Americans",
          "Norwegian Americans",
          "Croatian Americans",
          "Lithuanian American",
          "Pashtuns",
          "Serbian Americans",
          "French Canadians",
          "Norwegians",
          "Australian Americans",
          "Sicilian Americans",
          "Bunt",
          "Austrians",
          "Hungarians",
          "Albanian American",
          "Portuguese Americans",
          "Taiwanese",
          "British Chinese",
          "British Jews",
          "Ukrainian Americans",
          "Native Hawaiians",
          "Czechs",
          "Filipino people",
          "Korean American",
          "Lebanese Americans",
          "Irish Canadians",
          "Armenians",
          "Israeli Americans",
          "English Australian",
          "Romanichal",
          "Chinese Filipino",
          "Filipino Americans",
          "Bihari people",
          "Swiss",
          "Welsh Americans",
          "Jaat",
          "Nepali Indian",
          "Māori",
          "Nair",
          "First Nations",
          "Poles",
          "Italian Canadians",
          "Akan people",
          "Serbs of Croatia",
          "Argentines",
          "Greek Canadians",
          "Pakistanis",
          "Israelis",
          "Iranian peoples",
          "Bhutia",
          "Syrian Americans",
          "Polish Canadians",
          "Eurasian",
          "Ezhava",
          "Sephardi Jews",
          "Anglo-Celtic Australians",
          "Sri Lankan Tamils",
          "Taiwanese Americans",
          "Belarusians",
          "Brahmin caste",
          "Arab Americans",
          "History of the Jews in Morocco",
          "Dominican Americans",
          "White Latin American",
          "Muslim",
          "Kashmiri people",
          "White Africans of European ancestry",
          "Austrian Americans",
          "Anglo-Irish people",
          "Niyogi",
          "Colombian Americans",
          "Croats",
          "Italian Australian",
          "Slovene Americans",
          "Blackfoot Confederacy",
          "Chinese Singaporeans",
          "Chinese Canadians",
          "Sámi peoples",
          "Kannada people",
          "Belgians",
          "Serbian Canadians",
          "Malaysian Chinese",
          "Italians in the United Kingdom",
          "Afro-Cuban",
          "Irish Australian",
          "Bolivian American",
          "Hispanic",
          "Mohawk people",
          "Pacific Islander Americans",
          "Finns",
          "Que viva el amor de Chaves",
          "Ukrainians",
          "Konkani people",
          "Iranians in the United Kingdom",
          "Rohilla",
          "Finnish Americans",
          "Sikh",
          "Portuguese",
          "Tulu people",
          "Iraqi Americans",
          "Venezuelans",
          "Ojibwe",
          "Xhosa people",
          "Bahamian Americans",
          "Italian Brazilians",
          "Catalan people",
          "Swedish Canadians",
          "Latvians",
          "Berber",
          "Kapampangan people",
          "Lebanese",
          "Palestinian Americans",
          "Bulgarians",
          "history of the Jews in India",
          "Galicians",
          "Croatian Australians",
          "Hmong American",
          "Mudaliar",
          "Scottish Australian",
          "Latino",
          "Haitian Americans",
          "Chilean American",
          "Yoruba people",
          "Turkish Americans",
          "Bosniaks",
          "Vietnamese Americans",
          "English Canadians",
          "Black Britons",
          "Colombians",
          "French Chilean",
          "Slovaks",
          "Romanian Americans",
          "Armenian American",
          "Inuit",
          "Croatian Canadians",
          "Salvadoran Americans",
          "Choctaw",
          "Somalis",
          "Cubans",
          "Cree",
          "Thai Chinese people",
          "Vietnamese people",
          "rajput",
          "Sinhalese",
          "Honduran Americans",
          "Bulgarian Canadians",
          "Swedish-speaking population of Finland",
          "Icelanders",
          "Sudanese Arabs",
          "Assyrian people",
          "Indian diaspora in France",
          "Serbs in the United Kingdom",
          "Dalmatian Italians",
          "Bosnians",
          "Brazilian Americans",
          "Lao people",
          "Armenians of Russia",
          "Panamanian Americans",
          "Lumbee",
          "Inupiat people",
          "Ecuadorian Americans",
          "Louisiana Creole people",
          "Indonesian Americans",
          "Hondurans",
          "Sioux",
          "African people",
          "Marwari",
          "British Pakistanis",
          "German Canadians",
          "Ilocano",
          "Afro-Asians",
          "Anglo-Indian people",
          "Filipino Australians",
          "Uruguayans",
          "Dutch Canadians",
          "Lithuanian Jews",
          "Chileans",
          "Albanians",
          "Javanese",
          "Serbs in North Macedonia",
          "Hindu",
          "Chileans in the United Kingdom",
          "Ryukyuan people",
          "Filipino mestizo",
          "British Asian",
          "Luxembourgish Americans",
          "Corsicans",
          "Apache",
          "Mandinka people",
          "Buryats",
          "Ukrainian Canadians",
          "Brazilians",
          "Slavs",
          "Filipino people of Spanish ancestry",
          "Dutch Australian",
          "Polish Australians",
          "Castilians",
          "Arabs in Bulgaria",
          "Omaha people",
          "Samoan New Zealanders",
          "Indo-Canadians",
          "White South Africans",
          "Thai Americans",
          "Iranian Americans",
          "Khatri",
          "Acadians",
          "Muhajir",
          "Tatars",
          "Soviet people",
          "Copts",
          "Serbian Australians",
          "Baltic Russians",
          "multiracial people",
          "Indian Australian",
          "Romani people in Spain",
          "Serbs of Bosnia and Herzegovina",
          "Haudenosaunee",
          "Moroccans",
          "Greek Cypriots",
          "Nigerian Americans",
          "Wolof people",
          "Romanians",
          "Manchu",
          "Tibetan people",
          "Bengali Brahmins",
          "Latvian American",
          "Chinese Jamaicans",
          "Arabs",
          "Israeli Jews",
          "Chinese Indonesians",
          "Gibraltarian people",
          "Dalit",
          "Kabyle people",
          "Greeks in South Africa",
          "Persians",
          "Danish Canadians",
          "German Brazilians",
          "Kikuyu",
          "Aromanians",
          "Venezuelan Americans",
          "Tejano",
          "Dene",
          "Slovenes",
          "Basque people",
          "Nez Perce",
          "culture of Palestine",
          "Swedish Australian",
          "Greeks in the United Kingdom",
          "Lebanese immigration to Mexico",
          "Yugoslavs",
          "Italian immigration to Mexico",
          "Quebeckers",
          "Aymara",
          "Cheyennes",
          "Hutsuls",
          "Aceh",
          "Kurds",
          "Egyptians",
          "British African-Caribbean people",
          "Ossetians",
          "Métis",
          "Manx people",
          "Ho-Chunk",
          "Dogra",
          "Zhuang people",
          "Indian diaspora",
          "Gin people",
          "Hazaras",
          "Poles in the United Kingdom",
          "Koryo-saram",
          "Sherpa",
          "Transylvanian Saxons",
          "Chettiar",
          "Malagasy people",
          "Oneida",
          "Japanese Brazilians",
          "Azerbaijanis",
          "Thai people",
          "Iranian Canadians",
          "Afrikaners",
          "peoples of the Caucasus",
          "Sierra Leone Creole people",
          "Georgians"
         ],
         "labels": [
          "Jewish people",
          "African Americans",
          "English people",
          "Indian",
          "Irish Americans",
          "Italian Americans",
          "White Americans",
          "Scottish Americans",
          "Irish people",
          "Italians",
          "French",
          "Swedish Americans",
          "German Americans",
          "American Jews",
          "English Americans",
          "Swedes",
          "Punjabis",
          "Germans",
          "Dutch Americans",
          "Welsh people",
          "Bengali",
          "Mexican Americans",
          "Irish migration to Great Britain",
          "White British",
          "Marathi people",
          "Tamil",
          "Japanese people",
          "Koreans",
          "Hongkongers",
          "Russian Americans",
          "Greek Americans",
          "Spanish Americans",
          "Polish Americans",
          "Hungarian Americans",
          "Chinese Americans",
          "British Americans",
          "Malayali",
          "French Americans",
          "Spaniards",
          "Gujarati people",
          "Mexicans",
          "Kashmiri Pandit",
          "Puerto Ricans",
          "Danish Americans",
          "Dutch",
          "Kayastha",
          "Sindhis",
          "Indian Americans",
          "Cuban Americans",
          "Australians",
          "Cajun",
          "Parsi",
          "Danes",
          "Asian Americans",
          "Russians",
          "Romani people",
          "Slovak Americans",
          "Stateside Puerto Ricans",
          "names of the Greeks",
          "Czech Americans",
          "Cherokee",
          "Ashkenazi Jews",
          "Kiwi",
          "Telugu people",
          "British Indian",
          "Americans",
          "Norwegian Americans",
          "Croatian Americans",
          "Lithuanian American",
          "Pashtuns",
          "Serbian Americans",
          "French Canadians",
          "Norwegians",
          "Australian Americans",
          "Sicilian Americans",
          "Bunt",
          "Austrians",
          "Hungarians",
          "Albanian American",
          "Portuguese Americans",
          "Taiwanese",
          "British Chinese",
          "British Jews",
          "Ukrainian Americans",
          "Native Hawaiians",
          "Czechs",
          "Filipino people",
          "Korean American",
          "Lebanese Americans",
          "Irish Canadians",
          "Armenians",
          "Israeli Americans",
          "English Australian",
          "Romanichal",
          "Chinese Filipino",
          "Filipino Americans",
          "Bihari people",
          "Swiss",
          "Welsh Americans",
          "Jaat",
          "Nepali Indian",
          "Māori",
          "Nair",
          "First Nations",
          "Poles",
          "Italian Canadians",
          "Akan people",
          "Serbs of Croatia",
          "Argentines",
          "Greek Canadians",
          "Pakistanis",
          "Israelis",
          "Iranian peoples",
          "Bhutia",
          "Syrian Americans",
          "Polish Canadians",
          "Eurasian",
          "Ezhava",
          "Sephardi Jews",
          "Anglo-Celtic Australians",
          "Sri Lankan Tamils",
          "Taiwanese Americans",
          "Belarusians",
          "Brahmin caste",
          "Arab Americans",
          "History of the Jews in Morocco",
          "Dominican Americans",
          "White Latin American",
          "Muslim",
          "Kashmiri people",
          "White Africans of European ancestry",
          "Austrian Americans",
          "Anglo-Irish people",
          "Niyogi",
          "Colombian Americans",
          "Croats",
          "Italian Australian",
          "Slovene Americans",
          "Blackfoot Confederacy",
          "Chinese Singaporeans",
          "Chinese Canadians",
          "Sámi peoples",
          "Kannada people",
          "Belgians",
          "Serbian Canadians",
          "Malaysian Chinese",
          "Italians in the United Kingdom",
          "Afro-Cuban",
          "Irish Australian",
          "Bolivian American",
          "Hispanic",
          "Mohawk people",
          "Pacific Islander Americans",
          "Finns",
          "Que viva el amor de Chaves",
          "Ukrainians",
          "Konkani people",
          "Iranians in the United Kingdom",
          "Rohilla",
          "Finnish Americans",
          "Sikh",
          "Portuguese",
          "Tulu people",
          "Iraqi Americans",
          "Venezuelans",
          "Ojibwe",
          "Xhosa people",
          "Bahamian Americans",
          "Italian Brazilians",
          "Catalan people",
          "Swedish Canadians",
          "Latvians",
          "Berber",
          "Kapampangan people",
          "Lebanese",
          "Palestinian Americans",
          "Bulgarians",
          "history of the Jews in India",
          "Galicians",
          "Croatian Australians",
          "Hmong American",
          "Mudaliar",
          "Scottish Australian",
          "Latino",
          "Haitian Americans",
          "Chilean American",
          "Yoruba people",
          "Turkish Americans",
          "Bosniaks",
          "Vietnamese Americans",
          "English Canadians",
          "Black Britons",
          "Colombians",
          "French Chilean",
          "Slovaks",
          "Romanian Americans",
          "Armenian American",
          "Inuit",
          "Croatian Canadians",
          "Salvadoran Americans",
          "Choctaw",
          "Somalis",
          "Cubans",
          "Cree",
          "Thai Chinese people",
          "Vietnamese people",
          "rajput",
          "Sinhalese",
          "Honduran Americans",
          "Bulgarian Canadians",
          "Swedish-speaking population of Finland",
          "Icelanders",
          "Sudanese Arabs",
          "Assyrian people",
          "Indian diaspora in France",
          "Serbs in the United Kingdom",
          "Dalmatian Italians",
          "Bosnians",
          "Brazilian Americans",
          "Lao people",
          "Armenians of Russia",
          "Panamanian Americans",
          "Lumbee",
          "Inupiat people",
          "Ecuadorian Americans",
          "Louisiana Creole people",
          "Indonesian Americans",
          "Hondurans",
          "Sioux",
          "African people",
          "Marwari",
          "British Pakistanis",
          "German Canadians",
          "Ilocano",
          "Afro-Asians",
          "Anglo-Indian people",
          "Filipino Australians",
          "Uruguayans",
          "Dutch Canadians",
          "Lithuanian Jews",
          "Chileans",
          "Albanians",
          "Javanese",
          "Serbs in North Macedonia",
          "Hindu",
          "Chileans in the United Kingdom",
          "Ryukyuan people",
          "Filipino mestizo",
          "British Asian",
          "Luxembourgish Americans",
          "Corsicans",
          "Apache",
          "Mandinka people",
          "Buryats",
          "Ukrainian Canadians",
          "Brazilians",
          "Slavs",
          "Filipino people of Spanish ancestry",
          "Dutch Australian",
          "Polish Australians",
          "Castilians",
          "Arabs in Bulgaria",
          "Omaha people",
          "Samoan New Zealanders",
          "Indo-Canadians",
          "White South Africans",
          "Thai Americans",
          "Iranian Americans",
          "Khatri",
          "Acadians",
          "Muhajir",
          "Tatars",
          "Soviet people",
          "Copts",
          "Serbian Australians",
          "Baltic Russians",
          "multiracial people",
          "Indian Australian",
          "Romani people in Spain",
          "Serbs of Bosnia and Herzegovina",
          "Haudenosaunee",
          "Moroccans",
          "Greek Cypriots",
          "Nigerian Americans",
          "Wolof people",
          "Romanians",
          "Manchu",
          "Tibetan people",
          "Bengali Brahmins",
          "Latvian American",
          "Chinese Jamaicans",
          "Arabs",
          "Israeli Jews",
          "Chinese Indonesians",
          "Gibraltarian people",
          "Dalit",
          "Kabyle people",
          "Greeks in South Africa",
          "Persians",
          "Danish Canadians",
          "German Brazilians",
          "Kikuyu",
          "Aromanians",
          "Venezuelan Americans",
          "Tejano",
          "Dene",
          "Slovenes",
          "Basque people",
          "Nez Perce",
          "culture of Palestine",
          "Swedish Australian",
          "Greeks in the United Kingdom",
          "Lebanese immigration to Mexico",
          "Yugoslavs",
          "Italian immigration to Mexico",
          "Quebeckers",
          "Aymara",
          "Cheyennes",
          "Hutsuls",
          "Aceh",
          "Kurds",
          "Egyptians",
          "British African-Caribbean people",
          "Ossetians",
          "Métis",
          "Manx people",
          "Ho-Chunk",
          "Dogra",
          "Zhuang people",
          "Indian diaspora",
          "Gin people",
          "Hazaras",
          "Poles in the United Kingdom",
          "Koryo-saram",
          "Sherpa",
          "Transylvanian Saxons",
          "Chettiar",
          "Malagasy people",
          "Oneida",
          "Japanese Brazilians",
          "Azerbaijanis",
          "Thai people",
          "Iranian Canadians",
          "Afrikaners",
          "peoples of the Caucasus",
          "Sierra Leone Creole people",
          "Georgians"
         ],
         "legendgroup": "",
         "name": "",
         "showlegend": true,
         "textinfo": "none",
         "type": "pie",
         "values": [
          6446,
          4908,
          3481,
          3066,
          3035,
          2268,
          1814,
          1700,
          1323,
          928,
          916,
          826,
          808,
          777,
          611,
          580,
          569,
          536,
          511,
          482,
          482,
          473,
          432,
          429,
          427,
          408,
          403,
          378,
          362,
          343,
          316,
          310,
          307,
          298,
          298,
          282,
          268,
          267,
          267,
          265,
          256,
          254,
          229,
          219,
          209,
          205,
          204,
          192,
          191,
          190,
          189,
          187,
          186,
          179,
          175,
          174,
          174,
          172,
          156,
          152,
          148,
          147,
          146,
          142,
          138,
          131,
          130,
          127,
          121,
          117,
          115,
          112,
          111,
          111,
          106,
          106,
          105,
          104,
          100,
          100,
          100,
          98,
          97,
          90,
          90,
          89,
          87,
          87,
          82,
          79,
          76,
          76,
          75,
          72,
          71,
          71,
          71,
          69,
          68,
          65,
          64,
          62,
          61,
          58,
          57,
          57,
          54,
          53,
          53,
          52,
          52,
          52,
          52,
          51,
          51,
          50,
          50,
          49,
          48,
          47,
          47,
          47,
          46,
          46,
          45,
          45,
          43,
          42,
          41,
          41,
          40,
          40,
          40,
          40,
          39,
          38,
          38,
          37,
          37,
          35,
          35,
          35,
          34,
          33,
          33,
          32,
          30,
          29,
          29,
          29,
          28,
          28,
          28,
          28,
          27,
          27,
          27,
          27,
          26,
          25,
          25,
          25,
          25,
          24,
          22,
          21,
          21,
          21,
          21,
          21,
          20,
          20,
          20,
          20,
          20,
          20,
          18,
          18,
          17,
          17,
          17,
          17,
          16,
          16,
          16,
          16,
          16,
          16,
          15,
          15,
          15,
          14,
          14,
          14,
          13,
          13,
          13,
          13,
          12,
          12,
          12,
          12,
          12,
          12,
          12,
          12,
          12,
          11,
          11,
          11,
          11,
          11,
          10,
          10,
          10,
          10,
          10,
          10,
          10,
          10,
          10,
          10,
          10,
          10,
          9,
          9,
          9,
          9,
          9,
          9,
          9,
          9,
          8,
          8,
          8,
          8,
          8,
          8,
          8,
          8,
          8,
          8,
          8,
          7,
          7,
          7,
          7,
          7,
          7,
          6,
          6,
          6,
          6,
          6,
          6,
          6,
          6,
          6,
          6,
          6,
          6,
          6,
          6,
          5,
          5,
          5,
          5,
          5,
          5,
          5,
          5,
          4,
          4,
          4,
          4,
          4,
          4,
          4,
          4,
          4,
          4,
          4,
          4,
          4,
          3,
          3,
          3,
          3,
          3,
          3,
          3,
          3,
          3,
          2,
          2,
          2,
          2,
          2,
          2,
          2,
          2,
          2,
          2,
          2,
          2,
          2,
          2,
          2,
          2,
          2,
          2,
          2,
          2,
          2,
          2,
          2,
          2,
          2,
          1,
          1,
          1,
          1,
          1,
          1,
          1,
          1,
          1,
          1,
          1,
          1,
          1,
          1,
          1,
          1,
          1,
          1,
          1,
          1,
          1,
          1,
          1,
          1,
          1,
          1,
          1,
          1,
          1
         ]
        }
       ],
       "layout": {
        "legend": {
         "tracegroupgap": 0
        },
        "paper_bgcolor": "#FFF8D3",
        "piecolorway": [
         "#A01812",
         "#7A0A08",
         "#3A0605",
         "#6CA9B3",
         "#3F6475",
         "#2A5563",
         "#204F61",
         "#284146",
         "#1A3040",
         "#FEF7D0",
         "#FFF3BC",
         "#D8AC62",
         "#C48530",
         "#B77526",
         "#8A3D0C",
         "#4C1508"
        ],
        "template": {
         "data": {
          "bar": [
           {
            "error_x": {
             "color": "#2a3f5f"
            },
            "error_y": {
             "color": "#2a3f5f"
            },
            "marker": {
             "line": {
              "color": "#E5ECF6",
              "width": 0.5
             },
             "pattern": {
              "fillmode": "overlay",
              "size": 10,
              "solidity": 0.2
             }
            },
            "type": "bar"
           }
          ],
          "barpolar": [
           {
            "marker": {
             "line": {
              "color": "#E5ECF6",
              "width": 0.5
             },
             "pattern": {
              "fillmode": "overlay",
              "size": 10,
              "solidity": 0.2
             }
            },
            "type": "barpolar"
           }
          ],
          "carpet": [
           {
            "aaxis": {
             "endlinecolor": "#2a3f5f",
             "gridcolor": "white",
             "linecolor": "white",
             "minorgridcolor": "white",
             "startlinecolor": "#2a3f5f"
            },
            "baxis": {
             "endlinecolor": "#2a3f5f",
             "gridcolor": "white",
             "linecolor": "white",
             "minorgridcolor": "white",
             "startlinecolor": "#2a3f5f"
            },
            "type": "carpet"
           }
          ],
          "choropleth": [
           {
            "colorbar": {
             "outlinewidth": 0,
             "ticks": ""
            },
            "type": "choropleth"
           }
          ],
          "contour": [
           {
            "colorbar": {
             "outlinewidth": 0,
             "ticks": ""
            },
            "colorscale": [
             [
              0,
              "#0d0887"
             ],
             [
              0.1111111111111111,
              "#46039f"
             ],
             [
              0.2222222222222222,
              "#7201a8"
             ],
             [
              0.3333333333333333,
              "#9c179e"
             ],
             [
              0.4444444444444444,
              "#bd3786"
             ],
             [
              0.5555555555555556,
              "#d8576b"
             ],
             [
              0.6666666666666666,
              "#ed7953"
             ],
             [
              0.7777777777777778,
              "#fb9f3a"
             ],
             [
              0.8888888888888888,
              "#fdca26"
             ],
             [
              1,
              "#f0f921"
             ]
            ],
            "type": "contour"
           }
          ],
          "contourcarpet": [
           {
            "colorbar": {
             "outlinewidth": 0,
             "ticks": ""
            },
            "type": "contourcarpet"
           }
          ],
          "heatmap": [
           {
            "colorbar": {
             "outlinewidth": 0,
             "ticks": ""
            },
            "colorscale": [
             [
              0,
              "#0d0887"
             ],
             [
              0.1111111111111111,
              "#46039f"
             ],
             [
              0.2222222222222222,
              "#7201a8"
             ],
             [
              0.3333333333333333,
              "#9c179e"
             ],
             [
              0.4444444444444444,
              "#bd3786"
             ],
             [
              0.5555555555555556,
              "#d8576b"
             ],
             [
              0.6666666666666666,
              "#ed7953"
             ],
             [
              0.7777777777777778,
              "#fb9f3a"
             ],
             [
              0.8888888888888888,
              "#fdca26"
             ],
             [
              1,
              "#f0f921"
             ]
            ],
            "type": "heatmap"
           }
          ],
          "heatmapgl": [
           {
            "colorbar": {
             "outlinewidth": 0,
             "ticks": ""
            },
            "colorscale": [
             [
              0,
              "#0d0887"
             ],
             [
              0.1111111111111111,
              "#46039f"
             ],
             [
              0.2222222222222222,
              "#7201a8"
             ],
             [
              0.3333333333333333,
              "#9c179e"
             ],
             [
              0.4444444444444444,
              "#bd3786"
             ],
             [
              0.5555555555555556,
              "#d8576b"
             ],
             [
              0.6666666666666666,
              "#ed7953"
             ],
             [
              0.7777777777777778,
              "#fb9f3a"
             ],
             [
              0.8888888888888888,
              "#fdca26"
             ],
             [
              1,
              "#f0f921"
             ]
            ],
            "type": "heatmapgl"
           }
          ],
          "histogram": [
           {
            "marker": {
             "pattern": {
              "fillmode": "overlay",
              "size": 10,
              "solidity": 0.2
             }
            },
            "type": "histogram"
           }
          ],
          "histogram2d": [
           {
            "colorbar": {
             "outlinewidth": 0,
             "ticks": ""
            },
            "colorscale": [
             [
              0,
              "#0d0887"
             ],
             [
              0.1111111111111111,
              "#46039f"
             ],
             [
              0.2222222222222222,
              "#7201a8"
             ],
             [
              0.3333333333333333,
              "#9c179e"
             ],
             [
              0.4444444444444444,
              "#bd3786"
             ],
             [
              0.5555555555555556,
              "#d8576b"
             ],
             [
              0.6666666666666666,
              "#ed7953"
             ],
             [
              0.7777777777777778,
              "#fb9f3a"
             ],
             [
              0.8888888888888888,
              "#fdca26"
             ],
             [
              1,
              "#f0f921"
             ]
            ],
            "type": "histogram2d"
           }
          ],
          "histogram2dcontour": [
           {
            "colorbar": {
             "outlinewidth": 0,
             "ticks": ""
            },
            "colorscale": [
             [
              0,
              "#0d0887"
             ],
             [
              0.1111111111111111,
              "#46039f"
             ],
             [
              0.2222222222222222,
              "#7201a8"
             ],
             [
              0.3333333333333333,
              "#9c179e"
             ],
             [
              0.4444444444444444,
              "#bd3786"
             ],
             [
              0.5555555555555556,
              "#d8576b"
             ],
             [
              0.6666666666666666,
              "#ed7953"
             ],
             [
              0.7777777777777778,
              "#fb9f3a"
             ],
             [
              0.8888888888888888,
              "#fdca26"
             ],
             [
              1,
              "#f0f921"
             ]
            ],
            "type": "histogram2dcontour"
           }
          ],
          "mesh3d": [
           {
            "colorbar": {
             "outlinewidth": 0,
             "ticks": ""
            },
            "type": "mesh3d"
           }
          ],
          "parcoords": [
           {
            "line": {
             "colorbar": {
              "outlinewidth": 0,
              "ticks": ""
             }
            },
            "type": "parcoords"
           }
          ],
          "pie": [
           {
            "automargin": true,
            "type": "pie"
           }
          ],
          "scatter": [
           {
            "fillpattern": {
             "fillmode": "overlay",
             "size": 10,
             "solidity": 0.2
            },
            "type": "scatter"
           }
          ],
          "scatter3d": [
           {
            "line": {
             "colorbar": {
              "outlinewidth": 0,
              "ticks": ""
             }
            },
            "marker": {
             "colorbar": {
              "outlinewidth": 0,
              "ticks": ""
             }
            },
            "type": "scatter3d"
           }
          ],
          "scattercarpet": [
           {
            "marker": {
             "colorbar": {
              "outlinewidth": 0,
              "ticks": ""
             }
            },
            "type": "scattercarpet"
           }
          ],
          "scattergeo": [
           {
            "marker": {
             "colorbar": {
              "outlinewidth": 0,
              "ticks": ""
             }
            },
            "type": "scattergeo"
           }
          ],
          "scattergl": [
           {
            "marker": {
             "colorbar": {
              "outlinewidth": 0,
              "ticks": ""
             }
            },
            "type": "scattergl"
           }
          ],
          "scattermapbox": [
           {
            "marker": {
             "colorbar": {
              "outlinewidth": 0,
              "ticks": ""
             }
            },
            "type": "scattermapbox"
           }
          ],
          "scatterpolar": [
           {
            "marker": {
             "colorbar": {
              "outlinewidth": 0,
              "ticks": ""
             }
            },
            "type": "scatterpolar"
           }
          ],
          "scatterpolargl": [
           {
            "marker": {
             "colorbar": {
              "outlinewidth": 0,
              "ticks": ""
             }
            },
            "type": "scatterpolargl"
           }
          ],
          "scatterternary": [
           {
            "marker": {
             "colorbar": {
              "outlinewidth": 0,
              "ticks": ""
             }
            },
            "type": "scatterternary"
           }
          ],
          "surface": [
           {
            "colorbar": {
             "outlinewidth": 0,
             "ticks": ""
            },
            "colorscale": [
             [
              0,
              "#0d0887"
             ],
             [
              0.1111111111111111,
              "#46039f"
             ],
             [
              0.2222222222222222,
              "#7201a8"
             ],
             [
              0.3333333333333333,
              "#9c179e"
             ],
             [
              0.4444444444444444,
              "#bd3786"
             ],
             [
              0.5555555555555556,
              "#d8576b"
             ],
             [
              0.6666666666666666,
              "#ed7953"
             ],
             [
              0.7777777777777778,
              "#fb9f3a"
             ],
             [
              0.8888888888888888,
              "#fdca26"
             ],
             [
              1,
              "#f0f921"
             ]
            ],
            "type": "surface"
           }
          ],
          "table": [
           {
            "cells": {
             "fill": {
              "color": "#EBF0F8"
             },
             "line": {
              "color": "white"
             }
            },
            "header": {
             "fill": {
              "color": "#C8D4E3"
             },
             "line": {
              "color": "white"
             }
            },
            "type": "table"
           }
          ]
         },
         "layout": {
          "annotationdefaults": {
           "arrowcolor": "#2a3f5f",
           "arrowhead": 0,
           "arrowwidth": 1
          },
          "autotypenumbers": "strict",
          "coloraxis": {
           "colorbar": {
            "outlinewidth": 0,
            "ticks": ""
           }
          },
          "colorscale": {
           "diverging": [
            [
             0,
             "#8e0152"
            ],
            [
             0.1,
             "#c51b7d"
            ],
            [
             0.2,
             "#de77ae"
            ],
            [
             0.3,
             "#f1b6da"
            ],
            [
             0.4,
             "#fde0ef"
            ],
            [
             0.5,
             "#f7f7f7"
            ],
            [
             0.6,
             "#e6f5d0"
            ],
            [
             0.7,
             "#b8e186"
            ],
            [
             0.8,
             "#7fbc41"
            ],
            [
             0.9,
             "#4d9221"
            ],
            [
             1,
             "#276419"
            ]
           ],
           "sequential": [
            [
             0,
             "#0d0887"
            ],
            [
             0.1111111111111111,
             "#46039f"
            ],
            [
             0.2222222222222222,
             "#7201a8"
            ],
            [
             0.3333333333333333,
             "#9c179e"
            ],
            [
             0.4444444444444444,
             "#bd3786"
            ],
            [
             0.5555555555555556,
             "#d8576b"
            ],
            [
             0.6666666666666666,
             "#ed7953"
            ],
            [
             0.7777777777777778,
             "#fb9f3a"
            ],
            [
             0.8888888888888888,
             "#fdca26"
            ],
            [
             1,
             "#f0f921"
            ]
           ],
           "sequentialminus": [
            [
             0,
             "#0d0887"
            ],
            [
             0.1111111111111111,
             "#46039f"
            ],
            [
             0.2222222222222222,
             "#7201a8"
            ],
            [
             0.3333333333333333,
             "#9c179e"
            ],
            [
             0.4444444444444444,
             "#bd3786"
            ],
            [
             0.5555555555555556,
             "#d8576b"
            ],
            [
             0.6666666666666666,
             "#ed7953"
            ],
            [
             0.7777777777777778,
             "#fb9f3a"
            ],
            [
             0.8888888888888888,
             "#fdca26"
            ],
            [
             1,
             "#f0f921"
            ]
           ]
          },
          "colorway": [
           "#636efa",
           "#EF553B",
           "#00cc96",
           "#ab63fa",
           "#FFA15A",
           "#19d3f3",
           "#FF6692",
           "#B6E880",
           "#FF97FF",
           "#FECB52"
          ],
          "font": {
           "color": "#2a3f5f"
          },
          "geo": {
           "bgcolor": "white",
           "lakecolor": "white",
           "landcolor": "#E5ECF6",
           "showlakes": true,
           "showland": true,
           "subunitcolor": "white"
          },
          "hoverlabel": {
           "align": "left"
          },
          "hovermode": "closest",
          "mapbox": {
           "style": "light"
          },
          "paper_bgcolor": "white",
          "plot_bgcolor": "#E5ECF6",
          "polar": {
           "angularaxis": {
            "gridcolor": "white",
            "linecolor": "white",
            "ticks": ""
           },
           "bgcolor": "#E5ECF6",
           "radialaxis": {
            "gridcolor": "white",
            "linecolor": "white",
            "ticks": ""
           }
          },
          "scene": {
           "xaxis": {
            "backgroundcolor": "#E5ECF6",
            "gridcolor": "white",
            "gridwidth": 2,
            "linecolor": "white",
            "showbackground": true,
            "ticks": "",
            "zerolinecolor": "white"
           },
           "yaxis": {
            "backgroundcolor": "#E5ECF6",
            "gridcolor": "white",
            "gridwidth": 2,
            "linecolor": "white",
            "showbackground": true,
            "ticks": "",
            "zerolinecolor": "white"
           },
           "zaxis": {
            "backgroundcolor": "#E5ECF6",
            "gridcolor": "white",
            "gridwidth": 2,
            "linecolor": "white",
            "showbackground": true,
            "ticks": "",
            "zerolinecolor": "white"
           }
          },
          "shapedefaults": {
           "line": {
            "color": "#2a3f5f"
           }
          },
          "ternary": {
           "aaxis": {
            "gridcolor": "white",
            "linecolor": "white",
            "ticks": ""
           },
           "baxis": {
            "gridcolor": "white",
            "linecolor": "white",
            "ticks": ""
           },
           "bgcolor": "#E5ECF6",
           "caxis": {
            "gridcolor": "white",
            "linecolor": "white",
            "ticks": ""
           }
          },
          "title": {
           "x": 0.05
          },
          "xaxis": {
           "automargin": true,
           "gridcolor": "white",
           "linecolor": "white",
           "ticks": "",
           "title": {
            "standoff": 15
           },
           "zerolinecolor": "white",
           "zerolinewidth": 2
          },
          "yaxis": {
           "automargin": true,
           "gridcolor": "white",
           "linecolor": "white",
           "ticks": "",
           "title": {
            "standoff": 15
           },
           "zerolinecolor": "white",
           "zerolinewidth": 2
          }
         }
        },
        "title": {
         "text": "Ethnicities"
        }
       }
      }
     },
     "metadata": {},
     "output_type": "display_data"
    }
   ],
   "source": [
    "# Import some python modules\n",
    "import src.data.cleaning_data as cleandata\n",
    "import src.data.diversity as diversity_calc\n",
    "import src.data.success as success"
   ]
  },
  {
   "cell_type": "markdown",
   "metadata": {},
   "source": [
    "## **I) Get our hand dirty! Let's clean it up!**"
   ]
  },
  {
   "cell_type": "code",
   "execution_count": 3,
   "metadata": {},
   "outputs": [
    {
     "name": "stdout",
     "output_type": "stream",
     "text": [
      "Cleaned data saved to data/preprocess_data/clean_dataset.csv\n"
     ]
    },
    {
     "data": {
      "text/html": [
       "<div>\n",
       "<style scoped>\n",
       "    .dataframe tbody tr th:only-of-type {\n",
       "        vertical-align: middle;\n",
       "    }\n",
       "\n",
       "    .dataframe tbody tr th {\n",
       "        vertical-align: top;\n",
       "    }\n",
       "\n",
       "    .dataframe thead th {\n",
       "        text-align: right;\n",
       "    }\n",
       "</style>\n",
       "<table border=\"1\" class=\"dataframe\">\n",
       "  <thead>\n",
       "    <tr style=\"text-align: right;\">\n",
       "      <th></th>\n",
       "      <th>Wikipedia_movie_ID</th>\n",
       "      <th>Movie_release_date</th>\n",
       "      <th>Actor_ethnicity</th>\n",
       "      <th>Movie_name</th>\n",
       "      <th>Movie_runtime</th>\n",
       "      <th>Movie_languages</th>\n",
       "      <th>Movie_countries</th>\n",
       "    </tr>\n",
       "  </thead>\n",
       "  <tbody>\n",
       "    <tr>\n",
       "      <th>10</th>\n",
       "      <td>3196793</td>\n",
       "      <td>2000</td>\n",
       "      <td>African Americans</td>\n",
       "      <td>Getting Away with Murder: The JonBenét Ramsey ...</td>\n",
       "      <td>95.0</td>\n",
       "      <td>English Language</td>\n",
       "      <td>United States of America</td>\n",
       "    </tr>\n",
       "    <tr>\n",
       "      <th>57</th>\n",
       "      <td>18768079</td>\n",
       "      <td>1938</td>\n",
       "      <td>Jewish people</td>\n",
       "      <td>Fast Company</td>\n",
       "      <td>75.0</td>\n",
       "      <td>English Language</td>\n",
       "      <td>United States of America</td>\n",
       "    </tr>\n",
       "    <tr>\n",
       "      <th>59</th>\n",
       "      <td>612710</td>\n",
       "      <td>1999</td>\n",
       "      <td>Italians</td>\n",
       "      <td>New Rose Hotel</td>\n",
       "      <td>92.0</td>\n",
       "      <td>English Language</td>\n",
       "      <td>United States of America</td>\n",
       "    </tr>\n",
       "    <tr>\n",
       "      <th>60</th>\n",
       "      <td>612710</td>\n",
       "      <td>1999</td>\n",
       "      <td>German Americans</td>\n",
       "      <td>New Rose Hotel</td>\n",
       "      <td>92.0</td>\n",
       "      <td>English Language</td>\n",
       "      <td>United States of America</td>\n",
       "    </tr>\n",
       "    <tr>\n",
       "      <th>83</th>\n",
       "      <td>156558</td>\n",
       "      <td>2001</td>\n",
       "      <td>African Americans</td>\n",
       "      <td>Baby Boy</td>\n",
       "      <td>123.0</td>\n",
       "      <td>English Language</td>\n",
       "      <td>United States of America</td>\n",
       "    </tr>\n",
       "  </tbody>\n",
       "</table>\n",
       "</div>"
      ],
      "text/plain": [
       "    Wikipedia_movie_ID Movie_release_date    Actor_ethnicity  \\\n",
       "10             3196793               2000  African Americans   \n",
       "57            18768079               1938      Jewish people   \n",
       "59              612710               1999           Italians   \n",
       "60              612710               1999   German Americans   \n",
       "83              156558               2001  African Americans   \n",
       "\n",
       "                                           Movie_name  Movie_runtime  \\\n",
       "10  Getting Away with Murder: The JonBenét Ramsey ...           95.0   \n",
       "57                                       Fast Company           75.0   \n",
       "59                                     New Rose Hotel           92.0   \n",
       "60                                     New Rose Hotel           92.0   \n",
       "83                                           Baby Boy          123.0   \n",
       "\n",
       "     Movie_languages           Movie_countries  \n",
       "10  English Language  United States of America  \n",
       "57  English Language  United States of America  \n",
       "59  English Language  United States of America  \n",
       "60  English Language  United States of America  \n",
       "83  English Language  United States of America  "
      ]
     },
     "metadata": {},
     "output_type": "display_data"
    }
   ],
   "source": [
    "movie_path = 'data/raw_data/movie.metadata.tsv'\n",
    "character_path = 'data/raw_data/character.metadata.tsv'\n",
    "ethnicity_mapping_path = 'data/raw_data/fb_wiki_mapping.tsv'\n",
    "movie_df, box_office_df = cleandata.main(movie_path,character_path,ethnicity_mapping_path) # box_office_df will be used in our definition of success\n",
    "\n",
    "# Preview the cleaned data\n",
    "if  movie_df is not None:\n",
    "    display(movie_df.head())"
   ]
  },
  {
   "cell_type": "markdown",
   "metadata": {},
   "source": [
    "## **II) How to define success?**\n",
    "### **1) Let's add more data**"
   ]
  },
  {
   "cell_type": "markdown",
   "metadata": {},
   "source": [
    "We define a successful film based on three key criteria: high box office revenue or high user ratings, or award nominations. Let's add them to our dataset."
   ]
  },
  {
   "cell_type": "code",
   "execution_count": 4,
   "metadata": {},
   "outputs": [],
   "source": [
    "# Import the datasets we need for our definition of success\n",
    "ratings_df = success.ratings_setup()\n",
    "awards_df = success.nominations_setup()\n"
   ]
  },
  {
   "cell_type": "markdown",
   "metadata": {},
   "source": [
    "### **2) Merge to success**"
   ]
  },
  {
   "cell_type": "code",
   "execution_count": 5,
   "metadata": {},
   "outputs": [
    {
     "data": {
      "text/html": [
       "<div>\n",
       "<style scoped>\n",
       "    .dataframe tbody tr th:only-of-type {\n",
       "        vertical-align: middle;\n",
       "    }\n",
       "\n",
       "    .dataframe tbody tr th {\n",
       "        vertical-align: top;\n",
       "    }\n",
       "\n",
       "    .dataframe thead th {\n",
       "        text-align: right;\n",
       "    }\n",
       "</style>\n",
       "<table border=\"1\" class=\"dataframe\">\n",
       "  <thead>\n",
       "    <tr style=\"text-align: right;\">\n",
       "      <th></th>\n",
       "      <th>Movie_name</th>\n",
       "      <th>Movie_release_date</th>\n",
       "      <th>Ratings</th>\n",
       "      <th>Wikipedia_movie_ID</th>\n",
       "      <th>Movie_box_office_revenue</th>\n",
       "      <th>Nomination</th>\n",
       "    </tr>\n",
       "  </thead>\n",
       "  <tbody>\n",
       "    <tr>\n",
       "      <th>0</th>\n",
       "      <td>!Women Art Revolution</td>\n",
       "      <td>2010</td>\n",
       "      <td>6.9</td>\n",
       "      <td>29988427</td>\n",
       "      <td>NaN</td>\n",
       "      <td>False</td>\n",
       "    </tr>\n",
       "    <tr>\n",
       "      <th>1</th>\n",
       "      <td>$</td>\n",
       "      <td>1971</td>\n",
       "      <td>6.3</td>\n",
       "      <td>4213160</td>\n",
       "      <td>NaN</td>\n",
       "      <td>False</td>\n",
       "    </tr>\n",
       "    <tr>\n",
       "      <th>3</th>\n",
       "      <td>$9.99</td>\n",
       "      <td>2008</td>\n",
       "      <td>6.7</td>\n",
       "      <td>20624798</td>\n",
       "      <td>NaN</td>\n",
       "      <td>False</td>\n",
       "    </tr>\n",
       "    <tr>\n",
       "      <th>4</th>\n",
       "      <td>'68</td>\n",
       "      <td>1988</td>\n",
       "      <td>5.8</td>\n",
       "      <td>2250713</td>\n",
       "      <td>NaN</td>\n",
       "      <td>False</td>\n",
       "    </tr>\n",
       "    <tr>\n",
       "      <th>5</th>\n",
       "      <td>'Neath the Arizona Skies</td>\n",
       "      <td>1934</td>\n",
       "      <td>5.0</td>\n",
       "      <td>3610422</td>\n",
       "      <td>NaN</td>\n",
       "      <td>False</td>\n",
       "    </tr>\n",
       "    <tr>\n",
       "      <th>...</th>\n",
       "      <td>...</td>\n",
       "      <td>...</td>\n",
       "      <td>...</td>\n",
       "      <td>...</td>\n",
       "      <td>...</td>\n",
       "      <td>...</td>\n",
       "    </tr>\n",
       "    <tr>\n",
       "      <th>42928</th>\n",
       "      <td>È l'amor che mi rovina</td>\n",
       "      <td>1951</td>\n",
       "      <td>5.0</td>\n",
       "      <td>23687589</td>\n",
       "      <td>NaN</td>\n",
       "      <td>False</td>\n",
       "    </tr>\n",
       "    <tr>\n",
       "      <th>42929</th>\n",
       "      <td>Échangistes</td>\n",
       "      <td>2007</td>\n",
       "      <td>4.1</td>\n",
       "      <td>27932113</td>\n",
       "      <td>NaN</td>\n",
       "      <td>False</td>\n",
       "    </tr>\n",
       "    <tr>\n",
       "      <th>42930</th>\n",
       "      <td>Édes Anna</td>\n",
       "      <td>1958</td>\n",
       "      <td>7.4</td>\n",
       "      <td>21534981</td>\n",
       "      <td>NaN</td>\n",
       "      <td>False</td>\n",
       "    </tr>\n",
       "    <tr>\n",
       "      <th>42931</th>\n",
       "      <td>Élisa</td>\n",
       "      <td>1995</td>\n",
       "      <td>6.6</td>\n",
       "      <td>1719500</td>\n",
       "      <td>NaN</td>\n",
       "      <td>False</td>\n",
       "    </tr>\n",
       "    <tr>\n",
       "      <th>42934</th>\n",
       "      <td>Ödipussi</td>\n",
       "      <td>1988</td>\n",
       "      <td>7.4</td>\n",
       "      <td>13983035</td>\n",
       "      <td>NaN</td>\n",
       "      <td>False</td>\n",
       "    </tr>\n",
       "  </tbody>\n",
       "</table>\n",
       "<p>40548 rows × 6 columns</p>\n",
       "</div>"
      ],
      "text/plain": [
       "                     Movie_name Movie_release_date  Ratings  \\\n",
       "0         !Women Art Revolution               2010      6.9   \n",
       "1                             $               1971      6.3   \n",
       "3                         $9.99               2008      6.7   \n",
       "4                           '68               1988      5.8   \n",
       "5      'Neath the Arizona Skies               1934      5.0   \n",
       "...                         ...                ...      ...   \n",
       "42928    È l'amor che mi rovina               1951      5.0   \n",
       "42929               Échangistes               2007      4.1   \n",
       "42930                 Édes Anna               1958      7.4   \n",
       "42931                     Élisa               1995      6.6   \n",
       "42934                  Ödipussi               1988      7.4   \n",
       "\n",
       "       Wikipedia_movie_ID  Movie_box_office_revenue Nomination  \n",
       "0                29988427                       NaN      False  \n",
       "1                 4213160                       NaN      False  \n",
       "3                20624798                       NaN      False  \n",
       "4                 2250713                       NaN      False  \n",
       "5                 3610422                       NaN      False  \n",
       "...                   ...                       ...        ...  \n",
       "42928            23687589                       NaN      False  \n",
       "42929            27932113                       NaN      False  \n",
       "42930            21534981                       NaN      False  \n",
       "42931             1719500                       NaN      False  \n",
       "42934            13983035                       NaN      False  \n",
       "\n",
       "[40548 rows x 6 columns]"
      ]
     },
     "metadata": {},
     "output_type": "display_data"
    }
   ],
   "source": [
    "# Merge the datasets to get our success definition\n",
    "success_df = success.merge_success_df(box_office_df, awards_df, ratings_df)\n",
    "success_df = success.drop_NaN_on_success(success_df)\n",
    "display(success_df)"
   ]
  },
  {
   "cell_type": "markdown",
   "metadata": {},
   "source": [
    "### **3) The success score**\n",
    "To ensure a representative sample of successful films, we establish specific thresholds for each criterion:\n",
    "#### **a) High Box Office Revenue**\n",
    "A film is considered successful in terms of box office revenue if it exceeds **the threshold value of 38,119,483.0 (derived from the third quartile of the revenue distribution)**(*to modify in consequence*). Films below this value are not categorized as successful by this measure.\n",
    "#### **b) High User Ratings**\n",
    "Films with an average user **rating of 7/10 or higher are deemed highly rated** (*to modify in consequence*). This threshold, also based on the third quartile of user ratings, ensures that only the top-rated films are included.\n",
    "#### **c) Award Nominations**\n",
    "Rather than limiting our selection to award winners, which could be too restrictive, we include all films nominated for Oscars and Golden Globes, among other prominent awards.\n",
    "These criteria provide a comprehensive framework to evaluate a film's success across financial, audience, and critical dimensions.\n"
   ]
  },
  {
   "cell_type": "code",
   "execution_count": 11,
   "metadata": {},
   "outputs": [
    {
     "name": "stdout",
     "output_type": "stream",
     "text": [
      "Proportion of success movies: 24.84 %\n",
      "DataFrame saved successfully.\n"
     ]
    },
    {
     "data": {
      "text/html": [
       "<div>\n",
       "<style scoped>\n",
       "    .dataframe tbody tr th:only-of-type {\n",
       "        vertical-align: middle;\n",
       "    }\n",
       "\n",
       "    .dataframe tbody tr th {\n",
       "        vertical-align: top;\n",
       "    }\n",
       "\n",
       "    .dataframe thead th {\n",
       "        text-align: right;\n",
       "    }\n",
       "</style>\n",
       "<table border=\"1\" class=\"dataframe\">\n",
       "  <thead>\n",
       "    <tr style=\"text-align: right;\">\n",
       "      <th></th>\n",
       "      <th>Movie_name</th>\n",
       "      <th>Movie_release_date</th>\n",
       "      <th>Ratings</th>\n",
       "      <th>Wikipedia_movie_ID</th>\n",
       "      <th>Movie_box_office_revenue</th>\n",
       "      <th>Nomination</th>\n",
       "      <th>Success</th>\n",
       "    </tr>\n",
       "  </thead>\n",
       "  <tbody>\n",
       "    <tr>\n",
       "      <th>0</th>\n",
       "      <td>!Women Art Revolution</td>\n",
       "      <td>2010</td>\n",
       "      <td>6.9</td>\n",
       "      <td>29988427</td>\n",
       "      <td>NaN</td>\n",
       "      <td>False</td>\n",
       "      <td>0</td>\n",
       "    </tr>\n",
       "    <tr>\n",
       "      <th>1</th>\n",
       "      <td>$</td>\n",
       "      <td>1971</td>\n",
       "      <td>6.3</td>\n",
       "      <td>4213160</td>\n",
       "      <td>NaN</td>\n",
       "      <td>False</td>\n",
       "      <td>0</td>\n",
       "    </tr>\n",
       "    <tr>\n",
       "      <th>3</th>\n",
       "      <td>$9.99</td>\n",
       "      <td>2008</td>\n",
       "      <td>6.7</td>\n",
       "      <td>20624798</td>\n",
       "      <td>NaN</td>\n",
       "      <td>False</td>\n",
       "      <td>0</td>\n",
       "    </tr>\n",
       "    <tr>\n",
       "      <th>4</th>\n",
       "      <td>'68</td>\n",
       "      <td>1988</td>\n",
       "      <td>5.8</td>\n",
       "      <td>2250713</td>\n",
       "      <td>NaN</td>\n",
       "      <td>False</td>\n",
       "      <td>0</td>\n",
       "    </tr>\n",
       "    <tr>\n",
       "      <th>5</th>\n",
       "      <td>'Neath the Arizona Skies</td>\n",
       "      <td>1934</td>\n",
       "      <td>5.0</td>\n",
       "      <td>3610422</td>\n",
       "      <td>NaN</td>\n",
       "      <td>False</td>\n",
       "      <td>0</td>\n",
       "    </tr>\n",
       "    <tr>\n",
       "      <th>6</th>\n",
       "      <td>'R Xmas</td>\n",
       "      <td>2001</td>\n",
       "      <td>5.7</td>\n",
       "      <td>24799628</td>\n",
       "      <td>NaN</td>\n",
       "      <td>False</td>\n",
       "      <td>0</td>\n",
       "    </tr>\n",
       "    <tr>\n",
       "      <th>7</th>\n",
       "      <td>'Til There Was You</td>\n",
       "      <td>1997</td>\n",
       "      <td>4.8</td>\n",
       "      <td>17841580</td>\n",
       "      <td>3525125.0</td>\n",
       "      <td>False</td>\n",
       "      <td>0</td>\n",
       "    </tr>\n",
       "    <tr>\n",
       "      <th>8</th>\n",
       "      <td>'Til We Meet Again</td>\n",
       "      <td>1940</td>\n",
       "      <td>6.7</td>\n",
       "      <td>16038391</td>\n",
       "      <td>NaN</td>\n",
       "      <td>False</td>\n",
       "      <td>0</td>\n",
       "    </tr>\n",
       "    <tr>\n",
       "      <th>9</th>\n",
       "      <td>'night, Mother</td>\n",
       "      <td>1986</td>\n",
       "      <td>7.6</td>\n",
       "      <td>8098268</td>\n",
       "      <td>NaN</td>\n",
       "      <td>False</td>\n",
       "      <td>1</td>\n",
       "    </tr>\n",
       "    <tr>\n",
       "      <th>11</th>\n",
       "      <td>(Untitled)</td>\n",
       "      <td>2009</td>\n",
       "      <td>6.3</td>\n",
       "      <td>24204980</td>\n",
       "      <td>NaN</td>\n",
       "      <td>False</td>\n",
       "      <td>0</td>\n",
       "    </tr>\n",
       "    <tr>\n",
       "      <th>12</th>\n",
       "      <td>*Corpus Callosum</td>\n",
       "      <td>2002</td>\n",
       "      <td>6.8</td>\n",
       "      <td>16575961</td>\n",
       "      <td>NaN</td>\n",
       "      <td>False</td>\n",
       "      <td>0</td>\n",
       "    </tr>\n",
       "    <tr>\n",
       "      <th>13</th>\n",
       "      <td>*batteries not included</td>\n",
       "      <td>1987</td>\n",
       "      <td>6.6</td>\n",
       "      <td>3762449</td>\n",
       "      <td>65088797.0</td>\n",
       "      <td>False</td>\n",
       "      <td>1</td>\n",
       "    </tr>\n",
       "    <tr>\n",
       "      <th>14</th>\n",
       "      <td>-30-</td>\n",
       "      <td>1959</td>\n",
       "      <td>6.7</td>\n",
       "      <td>2627813</td>\n",
       "      <td>NaN</td>\n",
       "      <td>False</td>\n",
       "      <td>0</td>\n",
       "    </tr>\n",
       "    <tr>\n",
       "      <th>15</th>\n",
       "      <td>...And God Created Them</td>\n",
       "      <td>1979</td>\n",
       "      <td>8.7</td>\n",
       "      <td>23117893</td>\n",
       "      <td>NaN</td>\n",
       "      <td>False</td>\n",
       "      <td>1</td>\n",
       "    </tr>\n",
       "    <tr>\n",
       "      <th>17</th>\n",
       "      <td>...More Than 1000 Words</td>\n",
       "      <td>2006</td>\n",
       "      <td>7.9</td>\n",
       "      <td>6745330</td>\n",
       "      <td>NaN</td>\n",
       "      <td>False</td>\n",
       "      <td>1</td>\n",
       "    </tr>\n",
       "    <tr>\n",
       "      <th>18</th>\n",
       "      <td>...Y mañana serán mujeres</td>\n",
       "      <td>1955</td>\n",
       "      <td>7.0</td>\n",
       "      <td>31026314</td>\n",
       "      <td>NaN</td>\n",
       "      <td>False</td>\n",
       "      <td>0</td>\n",
       "    </tr>\n",
       "    <tr>\n",
       "      <th>19</th>\n",
       "      <td>...denn die Musik und die Liebe in Tirol</td>\n",
       "      <td>1963</td>\n",
       "      <td>4.1</td>\n",
       "      <td>33428981</td>\n",
       "      <td>NaN</td>\n",
       "      <td>False</td>\n",
       "      <td>0</td>\n",
       "    </tr>\n",
       "    <tr>\n",
       "      <th>20</th>\n",
       "      <td>...ing</td>\n",
       "      <td>2003</td>\n",
       "      <td>7.2</td>\n",
       "      <td>2211244</td>\n",
       "      <td>NaN</td>\n",
       "      <td>False</td>\n",
       "      <td>1</td>\n",
       "    </tr>\n",
       "    <tr>\n",
       "      <th>21</th>\n",
       "      <td>.45</td>\n",
       "      <td>2006</td>\n",
       "      <td>5.5</td>\n",
       "      <td>4441267</td>\n",
       "      <td>NaN</td>\n",
       "      <td>False</td>\n",
       "      <td>0</td>\n",
       "    </tr>\n",
       "    <tr>\n",
       "      <th>22</th>\n",
       "      <td>008: Operation Exterminate</td>\n",
       "      <td>1965</td>\n",
       "      <td>5.1</td>\n",
       "      <td>18715102</td>\n",
       "      <td>NaN</td>\n",
       "      <td>False</td>\n",
       "      <td>0</td>\n",
       "    </tr>\n",
       "  </tbody>\n",
       "</table>\n",
       "</div>"
      ],
      "text/plain": [
       "                                  Movie_name Movie_release_date  Ratings  \\\n",
       "0                      !Women Art Revolution               2010      6.9   \n",
       "1                                          $               1971      6.3   \n",
       "3                                      $9.99               2008      6.7   \n",
       "4                                        '68               1988      5.8   \n",
       "5                   'Neath the Arizona Skies               1934      5.0   \n",
       "6                                    'R Xmas               2001      5.7   \n",
       "7                         'Til There Was You               1997      4.8   \n",
       "8                         'Til We Meet Again               1940      6.7   \n",
       "9                             'night, Mother               1986      7.6   \n",
       "11                                (Untitled)               2009      6.3   \n",
       "12                          *Corpus Callosum               2002      6.8   \n",
       "13                   *batteries not included               1987      6.6   \n",
       "14                                      -30-               1959      6.7   \n",
       "15                   ...And God Created Them               1979      8.7   \n",
       "17                   ...More Than 1000 Words               2006      7.9   \n",
       "18                 ...Y mañana serán mujeres               1955      7.0   \n",
       "19  ...denn die Musik und die Liebe in Tirol               1963      4.1   \n",
       "20                                    ...ing               2003      7.2   \n",
       "21                                       .45               2006      5.5   \n",
       "22                008: Operation Exterminate               1965      5.1   \n",
       "\n",
       "    Wikipedia_movie_ID  Movie_box_office_revenue Nomination  Success  \n",
       "0             29988427                       NaN      False        0  \n",
       "1              4213160                       NaN      False        0  \n",
       "3             20624798                       NaN      False        0  \n",
       "4              2250713                       NaN      False        0  \n",
       "5              3610422                       NaN      False        0  \n",
       "6             24799628                       NaN      False        0  \n",
       "7             17841580                 3525125.0      False        0  \n",
       "8             16038391                       NaN      False        0  \n",
       "9              8098268                       NaN      False        1  \n",
       "11            24204980                       NaN      False        0  \n",
       "12            16575961                       NaN      False        0  \n",
       "13             3762449                65088797.0      False        1  \n",
       "14             2627813                       NaN      False        0  \n",
       "15            23117893                       NaN      False        1  \n",
       "17             6745330                       NaN      False        1  \n",
       "18            31026314                       NaN      False        0  \n",
       "19            33428981                       NaN      False        0  \n",
       "20             2211244                       NaN      False        1  \n",
       "21             4441267                       NaN      False        0  \n",
       "22            18715102                       NaN      False        0  "
      ]
     },
     "execution_count": 11,
     "metadata": {},
     "output_type": "execute_result"
    }
   ],
   "source": [
    "# Define the success threshold\n",
    "# Ratings and box office of success movies are above this quantile : \n",
    "ratings_quantile = 0.75\n",
    "box_office_quantile = 0.75\n",
    "success_df = success.define_success(success_df, ratings_quantile, box_office_quantile)\n",
    "success.save_df_to_csv(success_df, \"success_movies\")\n",
    "success_df.head(20)"
   ]
  },
  {
   "cell_type": "markdown",
   "metadata": {},
   "source": [
    "## **III) How to define diversity?**\n",
    "### **1) Treating the ethnicities**\n",
    "When we first have a look at the ethnicities, we can see that there are a total of more than 350 different ethnicities, some of them still very similar (e.g. 'Austrian American' and 'Austrian Canadian' etc). We want to first simplify this ethnicity criterion before defining diversity. If we didn’t sort the ethnicities, a film with a cast of a German, Austrian and Swiss would be considered very diverse. This is however not what we want to consider diverse. It is for this reason that the ethnicities were first grouped into larger ethnic groups. This was done with the help of a LLM, with checks and corrections done by hand. Doing this by hand was still possible thanks to the manageable number of ethnicities and the LLM doing the most time-consuming part.\n"
   ]
  },
  {
   "cell_type": "code",
   "execution_count": 12,
   "metadata": {},
   "outputs": [
    {
     "data": {
      "text/html": [
       "<div>\n",
       "<style scoped>\n",
       "    .dataframe tbody tr th:only-of-type {\n",
       "        vertical-align: middle;\n",
       "    }\n",
       "\n",
       "    .dataframe tbody tr th {\n",
       "        vertical-align: top;\n",
       "    }\n",
       "\n",
       "    .dataframe thead th {\n",
       "        text-align: right;\n",
       "    }\n",
       "</style>\n",
       "<table border=\"1\" class=\"dataframe\">\n",
       "  <thead>\n",
       "    <tr style=\"text-align: right;\">\n",
       "      <th></th>\n",
       "      <th>Wikipedia_movie_ID</th>\n",
       "      <th>Movie_release_date</th>\n",
       "      <th>Movie_name</th>\n",
       "      <th>Movie_runtime</th>\n",
       "      <th>Movie_languages</th>\n",
       "      <th>Movie_countries</th>\n",
       "      <th>ethnic_group</th>\n",
       "      <th>diversity</th>\n",
       "      <th>actor_number</th>\n",
       "    </tr>\n",
       "  </thead>\n",
       "  <tbody>\n",
       "    <tr>\n",
       "      <th>2</th>\n",
       "      <td>612710</td>\n",
       "      <td>1999</td>\n",
       "      <td>New Rose Hotel</td>\n",
       "      <td>92.0</td>\n",
       "      <td>English Language</td>\n",
       "      <td>United States of America</td>\n",
       "      <td>Southern European</td>\n",
       "      <td>0.971348</td>\n",
       "      <td>2</td>\n",
       "    </tr>\n",
       "    <tr>\n",
       "      <th>5</th>\n",
       "      <td>9633533</td>\n",
       "      <td>1989</td>\n",
       "      <td>Vandanam</td>\n",
       "      <td>168.0</td>\n",
       "      <td>Malayalam Language</td>\n",
       "      <td>India</td>\n",
       "      <td>South Asian</td>\n",
       "      <td>0.120225</td>\n",
       "      <td>3</td>\n",
       "    </tr>\n",
       "    <tr>\n",
       "      <th>9</th>\n",
       "      <td>29528534</td>\n",
       "      <td>1986</td>\n",
       "      <td>Anokha Rishta</td>\n",
       "      <td>180.0</td>\n",
       "      <td>Hindi Language</td>\n",
       "      <td>India</td>\n",
       "      <td>South Asian</td>\n",
       "      <td>0.180337</td>\n",
       "      <td>2</td>\n",
       "    </tr>\n",
       "    <tr>\n",
       "      <th>11</th>\n",
       "      <td>4951456</td>\n",
       "      <td>1989</td>\n",
       "      <td>Kinjite: Forbidden Subjects</td>\n",
       "      <td>97.0</td>\n",
       "      <td>English Language</td>\n",
       "      <td>United States of America</td>\n",
       "      <td>European descent American</td>\n",
       "      <td>0.633948</td>\n",
       "      <td>3</td>\n",
       "    </tr>\n",
       "    <tr>\n",
       "      <th>16</th>\n",
       "      <td>12053509</td>\n",
       "      <td>1989</td>\n",
       "      <td>Loverboy</td>\n",
       "      <td>98.0</td>\n",
       "      <td>English Language</td>\n",
       "      <td>United States of America</td>\n",
       "      <td>European descent American</td>\n",
       "      <td>0.633948</td>\n",
       "      <td>3</td>\n",
       "    </tr>\n",
       "    <tr>\n",
       "      <th>...</th>\n",
       "      <td>...</td>\n",
       "      <td>...</td>\n",
       "      <td>...</td>\n",
       "      <td>...</td>\n",
       "      <td>...</td>\n",
       "      <td>...</td>\n",
       "      <td>...</td>\n",
       "      <td>...</td>\n",
       "      <td>...</td>\n",
       "    </tr>\n",
       "    <tr>\n",
       "      <th>54445</th>\n",
       "      <td>25920477</td>\n",
       "      <td>2011</td>\n",
       "      <td>Source Code</td>\n",
       "      <td>93.0</td>\n",
       "      <td>English Language</td>\n",
       "      <td>France, United States of America</td>\n",
       "      <td>European descent American</td>\n",
       "      <td>0.854855</td>\n",
       "      <td>5</td>\n",
       "    </tr>\n",
       "    <tr>\n",
       "      <th>54450</th>\n",
       "      <td>6146523</td>\n",
       "      <td>2002</td>\n",
       "      <td>Santosham</td>\n",
       "      <td>150.0</td>\n",
       "      <td>Telugu language</td>\n",
       "      <td>India</td>\n",
       "      <td>South Asian</td>\n",
       "      <td>0.180337</td>\n",
       "      <td>2</td>\n",
       "    </tr>\n",
       "    <tr>\n",
       "      <th>54452</th>\n",
       "      <td>6456053</td>\n",
       "      <td>1964</td>\n",
       "      <td>The Yellow Rolls-Royce</td>\n",
       "      <td>122.0</td>\n",
       "      <td>English Language</td>\n",
       "      <td>United Kingdom</td>\n",
       "      <td>European descent American</td>\n",
       "      <td>0.633948</td>\n",
       "      <td>3</td>\n",
       "    </tr>\n",
       "    <tr>\n",
       "      <th>54457</th>\n",
       "      <td>21772949</td>\n",
       "      <td>1948</td>\n",
       "      <td>Casbah</td>\n",
       "      <td>94.0</td>\n",
       "      <td>English Language</td>\n",
       "      <td>United States of America</td>\n",
       "      <td>Middle Eastern</td>\n",
       "      <td>0.971348</td>\n",
       "      <td>2</td>\n",
       "    </tr>\n",
       "    <tr>\n",
       "      <th>54459</th>\n",
       "      <td>24997872</td>\n",
       "      <td>2010</td>\n",
       "      <td>Pokkiri Raja</td>\n",
       "      <td>136.0</td>\n",
       "      <td>Malayalam Language</td>\n",
       "      <td>India</td>\n",
       "      <td>South Asian</td>\n",
       "      <td>0.120225</td>\n",
       "      <td>3</td>\n",
       "    </tr>\n",
       "  </tbody>\n",
       "</table>\n",
       "<p>13670 rows × 9 columns</p>\n",
       "</div>"
      ],
      "text/plain": [
       "       Wikipedia_movie_ID Movie_release_date                   Movie_name  \\\n",
       "2                  612710               1999               New Rose Hotel   \n",
       "5                 9633533               1989                     Vandanam   \n",
       "9                29528534               1986                Anokha Rishta   \n",
       "11                4951456               1989  Kinjite: Forbidden Subjects   \n",
       "16               12053509               1989                     Loverboy   \n",
       "...                   ...                ...                          ...   \n",
       "54445            25920477               2011                  Source Code   \n",
       "54450             6146523               2002                    Santosham   \n",
       "54452             6456053               1964       The Yellow Rolls-Royce   \n",
       "54457            21772949               1948                       Casbah   \n",
       "54459            24997872               2010                 Pokkiri Raja   \n",
       "\n",
       "       Movie_runtime     Movie_languages                   Movie_countries  \\\n",
       "2               92.0    English Language          United States of America   \n",
       "5              168.0  Malayalam Language                             India   \n",
       "9              180.0      Hindi Language                             India   \n",
       "11              97.0    English Language          United States of America   \n",
       "16              98.0    English Language          United States of America   \n",
       "...              ...                 ...                               ...   \n",
       "54445           93.0    English Language  France, United States of America   \n",
       "54450          150.0     Telugu language                             India   \n",
       "54452          122.0    English Language                    United Kingdom   \n",
       "54457           94.0    English Language          United States of America   \n",
       "54459          136.0  Malayalam Language                             India   \n",
       "\n",
       "                    ethnic_group  diversity  actor_number  \n",
       "2              Southern European   0.971348             2  \n",
       "5                    South Asian   0.120225             3  \n",
       "9                    South Asian   0.180337             2  \n",
       "11     European descent American   0.633948             3  \n",
       "16     European descent American   0.633948             3  \n",
       "...                          ...        ...           ...  \n",
       "54445  European descent American   0.854855             5  \n",
       "54450                South Asian   0.180337             2  \n",
       "54452  European descent American   0.633948             3  \n",
       "54457             Middle Eastern   0.971348             2  \n",
       "54459                South Asian   0.120225             3  \n",
       "\n",
       "[13670 rows x 9 columns]"
      ]
     },
     "metadata": {},
     "output_type": "display_data"
    }
   ],
   "source": [
    "actors_df = diversity_calc.load_df('data/processed_data/clean_dataset.csv')\n",
    "actors_diversity = diversity_calc.ethnic_groups(actors_df)\n",
    "diversity_calc.check_nan_Ethnicity(actors_diversity)\n",
    "diversity = diversity_calc.naive_diversity(actors_diversity)\n",
    "diversity = diversity_calc.ethnic_entropy(actors_df,diversity)\n",
    "actors_df = diversity_calc.merge_on_movies(actors_df,diversity)\n",
    "# actors_df = actors_df[actors_df['actor_number'] != 1]\n",
    "# actors_df = actors_df.drop(columns='Actor_ethnicity').drop_duplicates(subset='Wikipedia_movie_ID')\n",
    "actors_df = diversity_calc.drop_solo_actors(actors_df)\n",
    "# actors_df.to_csv(\"data/processed_data/clean_div_dataset.csv\", index=False, encoding='utf-8-sig')\n",
    "#drop Nan from Ratings, Wikipedia_movie_ID, diversity, actor_number, Nomination\n",
    "# actors_df = actors_df.dropna(subset=['Ratings','Wikipedia_movie_ID','diversity','actor_number','Nomination'])\n",
    "success_actors_df = success.merge_success_actors(success_df,actors_df)\n",
    "display(actors_df)"
   ]
  },
  {
   "cell_type": "code",
   "execution_count": null,
   "metadata": {},
   "outputs": [
    {
     "name": "stdout",
     "output_type": "stream",
     "text": [
      "DataFrame saved successfully.\n"
     ]
    }
   ],
   "source": [
    "## Merge the datasets success_df and actors_df\n",
    "success_actors_df = success.merge_success_actors(success_df, actors_df) \n",
    "success.save_df_to_csv(success_actors_df, \"success_and_diversity\")"
   ]
  },
  {
   "cell_type": "markdown",
   "metadata": {},
   "source": [
    "### **2) Defining diversity**\n",
    "Once the ethnicities have been sorted into larger groups (16), we can start defining diversity. The focus being on the diversity of the cast and not the representation of minority groups, country of production of the movie doesn’t have to be taken into account. The first and easiest way to calculate diversity would be dividing the number of ethnicities over the number of actors. However, for a film with 9 actors and 3 ethnicities, this definition would give the same diversity score for a distribution (3,3,3) as for (1,1,7). Calculating an entropy could therefore complete the previous definition.\n",
    "The basic entropy formula is: $$ S = -\\sum_{i=1}^{n} p_i \\log(p_i) \\tag{1}$$\n",
    "Where pi is the fraction an ethnicity represents in the movie \n",
    "\n",
    "\n",
    "One modification was made. Indeed, if we have all actors from 1 ethnicity, we get an entropy of 0, but it is preferable to avoid the value of 0 since we will multiply the entropy with the other definition. We therefore have added 1 to the entropy. This entropy penalises the movies with smaller numbers of actors, which is why we have multiplied entropy with the first definition to establish our final diversity coefficient"
   ]
  },
  {
   "cell_type": "markdown",
   "metadata": {},
   "source": [
    "### **3) Further comments**\n",
    "Firstly, the data set gives us many movies with different numbers of actors and all the movies with 1 actor cannot be considered for a diversity calculation. If we wanted to further complete the analysis we could consider whether an actor is from a minority group.\n",
    "Secondly, the diversity coefficient is based on the ethnic groups established previously. Changing the characteristics of the ethnic groups, such as their size, their number or their content will change the diversity factor.\n"
   ]
  },
  {
   "cell_type": "markdown",
   "metadata": {},
   "source": [
    "## **IV) Let's explore the data**\n",
    "### **1) Diversity on overall success**\n",
    "#### **a) Is diversity higher in successful movies compared to less successful movies ?**"
   ]
  },
  {
   "cell_type": "markdown",
   "metadata": {},
   "source": [
    "#### **b) Is the difference significant?**\n",
    "**T-test**"
   ]
  },
  {
   "cell_type": "markdown",
   "metadata": {},
   "source": [
    "**Test of correlation**\n",
    "\n",
    "Spearman correlation coefficient"
   ]
  },
  {
   "cell_type": "markdown",
   "metadata": {},
   "source": [
    "**Propensity score matching**"
   ]
  },
  {
   "cell_type": "markdown",
   "metadata": {},
   "source": [
    "## **V) Let's dig in**\n",
    "Explore the data per success criterion\n",
    "\n",
    "### **1) Box office revenue**\n",
    "**T-test**\n"
   ]
  },
  {
   "cell_type": "markdown",
   "metadata": {},
   "source": [
    "**Test of correlation**\n",
    "pearson correlation coefficient"
   ]
  },
  {
   "cell_type": "markdown",
   "metadata": {},
   "source": [
    "**Propensity score matching**"
   ]
  },
  {
   "cell_type": "markdown",
   "metadata": {},
   "source": [
    "### **2) User ratings**\n",
    "**T-test**"
   ]
  },
  {
   "cell_type": "markdown",
   "metadata": {},
   "source": [
    "**Test of correlation**\n",
    "spearman correlation coefficient"
   ]
  },
  {
   "cell_type": "markdown",
   "metadata": {},
   "source": [
    "**Propensity score matching**"
   ]
  },
  {
   "cell_type": "markdown",
   "metadata": {},
   "source": [
    "### **3) Award nominations**\n",
    "**T-test**"
   ]
  },
  {
   "cell_type": "markdown",
   "metadata": {},
   "source": [
    "**Test of correlation**\n",
    "Pearson correlation coefficient"
   ]
  },
  {
   "cell_type": "markdown",
   "metadata": {},
   "source": [
    "**Propensity score matching**"
   ]
  },
  {
   "cell_type": "markdown",
   "metadata": {},
   "source": [
    "## **VI) Conclusion: the cruel truth**"
   ]
  },
  {
   "cell_type": "markdown",
   "metadata": {},
   "source": []
  }
 ],
 "metadata": {
  "kernelspec": {
   "display_name": "ada2024",
   "language": "python",
   "name": "python3"
  },
  "language_info": {
   "codemirror_mode": {
    "name": "ipython",
    "version": 3
   },
   "file_extension": ".py",
   "mimetype": "text/x-python",
   "name": "python",
   "nbconvert_exporter": "python",
   "pygments_lexer": "ipython3",
   "version": "3.13.0"
  }
 },
 "nbformat": 4,
 "nbformat_minor": 2
}
